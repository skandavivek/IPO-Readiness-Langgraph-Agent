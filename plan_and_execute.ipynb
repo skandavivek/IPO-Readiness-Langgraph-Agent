{
  "cells": [
    {
      "cell_type": "markdown",
      "id": "79b5811c-1074-495f-9722-8325b5e717d3",
      "metadata": {
        "id": "79b5811c-1074-495f-9722-8325b5e717d3"
      },
      "source": [
        "# Plan-and-Execute\n",
        "\n",
        "This notebook shows how to create a \"plan-and-execute\" style agent. This is heavily inspired by the [Plan-and-Solve](https://arxiv.org/abs/2305.04091) paper as well as the [Baby-AGI](https://github.com/yoheinakajima/babyagi) project.\n",
        "\n",
        "The core idea is to first come up with a multi-step plan, and then go through that plan one item at a time.\n",
        "After accomplishing a particular task, you can then revisit the plan and modify as appropriate.\n",
        "\n",
        "\n",
        "The general computational graph looks like the following:\n",
        "\n",
        "![plan-and-execute diagram](attachment:86cf6404-3d9b-41cb-ab97-5e451f576620.png)\n",
        "\n",
        "\n",
        "This compares to a typical [ReAct](https://arxiv.org/abs/2210.03629) style agent where you think one step at a time.\n",
        "The advantages of this \"plan-and-execute\" style agent are:\n",
        "\n",
        "1. Explicit long term planning (which even really strong LLMs can struggle with)\n",
        "2. Ability to use smaller/weaker models for the execution step, only using larger/better models for the planning step\n",
        "\n",
        "\n",
        "The following walkthrough demonstrates how to do so in LangGraph. The resulting agent will leave a trace like the following example: ([link](https://smith.langchain.com/public/d46e24d3-dda6-44d5-9550-b618fca4e0d4/r))."
      ]
    },
    {
      "cell_type": "markdown",
      "id": "a44a72d6-7e0c-4478-9d20-4c09000420a8",
      "metadata": {
        "id": "a44a72d6-7e0c-4478-9d20-4c09000420a8"
      },
      "source": [
        "## Setup\n",
        "\n",
        "First, we need to install the packages required."
      ]
    },
    {
      "cell_type": "code",
      "execution_count": null,
      "id": "b451b58a-89bd-424f-8c06-0d9fe325e01b",
      "metadata": {
        "id": "b451b58a-89bd-424f-8c06-0d9fe325e01b"
      },
      "outputs": [],
      "source": [
        "%%capture --no-stderr\n",
        "%pip install --quiet -U langgraph langchain-community langchain-openai tavily-python"
      ]
    },
    {
      "cell_type": "markdown",
      "id": "35f267b0-98db-4a59-8b2c-a23f795576ff",
      "metadata": {
        "id": "35f267b0-98db-4a59-8b2c-a23f795576ff"
      },
      "source": [
        "Next, we need to set API keys for OpenAI (the LLM we will use) and Tavily (the search tool we will use)"
      ]
    },
    {
      "cell_type": "code",
      "execution_count": null,
      "id": "ce438281-08d5-4804-afe7-e4089f7b016b",
      "metadata": {
        "colab": {
          "base_uri": "https://localhost:8080/"
        },
        "id": "ce438281-08d5-4804-afe7-e4089f7b016b",
        "outputId": "372914e0-ab3c-4538-fdbc-b6c3431a5150"
      },
      "outputs": [
        {
          "name": "stdout",
          "output_type": "stream",
          "text": [
            "OPENAI_API_KEY: ··········\n",
            "TAVILY_API_KEY: ··········\n"
          ]
        }
      ],
      "source": [
        "import getpass\n",
        "import os\n",
        "\n",
        "\n",
        "def _set_env(var: str):\n",
        "    if not os.environ.get(var):\n",
        "        os.environ[var] = getpass.getpass(f\"{var}: \")\n",
        "\n",
        "\n",
        "_set_env(\"OPENAI_API_KEY\")\n",
        "_set_env(\"TAVILY_API_KEY\")"
      ]
    },
    {
      "cell_type": "markdown",
      "id": "be2d7981-3737-4134-8bef-d00d18d4e91d",
      "metadata": {
        "id": "be2d7981-3737-4134-8bef-d00d18d4e91d"
      },
      "source": [
        "<div class=\"admonition tip\">\n",
        "    <p class=\"admonition-title\">Set up <a href=\"https://smith.langchain.com\">LangSmith</a> for LangGraph development</p>\n",
        "    <p style=\"padding-top: 5px;\">\n",
        "        Sign up for LangSmith to quickly spot issues and improve the performance of your LangGraph projects. LangSmith lets you use trace data to debug, test, and monitor your LLM apps built with LangGraph — read more about how to get started <a href=\"https://docs.smith.langchain.com\">here</a>.\n",
        "    </p>\n",
        "</div>"
      ]
    },
    {
      "cell_type": "markdown",
      "id": "6c5fb09a-0311-44c2-b243-d0e80de78902",
      "metadata": {
        "id": "6c5fb09a-0311-44c2-b243-d0e80de78902"
      },
      "source": [
        "## Define Tools\n",
        "\n",
        "We will first define the tools we want to use. For this simple example, we will use a built-in search tool via Tavily. However, it is really easy to create your own tools - see documentation [here](https://python.langchain.com/docs/how_to/custom_tools) on how to do that."
      ]
    },
    {
      "cell_type": "code",
      "execution_count": null,
      "id": "25b9ec62-0675-4715-811c-9b32c635b22f",
      "metadata": {
        "id": "25b9ec62-0675-4715-811c-9b32c635b22f"
      },
      "outputs": [],
      "source": [
        "from langchain_community.tools.tavily_search import TavilySearchResults\n",
        "\n",
        "tools = [TavilySearchResults(max_results=3)]"
      ]
    },
    {
      "cell_type": "markdown",
      "id": "3dcda478-fa80-4e3e-bb35-0f622fe73a31",
      "metadata": {
        "id": "3dcda478-fa80-4e3e-bb35-0f622fe73a31"
      },
      "source": [
        "## Define our Execution Agent\n",
        "\n",
        "Now we will create the execution agent we want to use to execute tasks.\n",
        "Note that for this example, we will be using the same execution agent for each task, but this doesn't HAVE to be the case."
      ]
    },
    {
      "cell_type": "code",
      "execution_count": null,
      "id": "72d233ca-1dbf-4b43-b680-b3bf39e3691f",
      "metadata": {
        "colab": {
          "base_uri": "https://localhost:8080/"
        },
        "id": "72d233ca-1dbf-4b43-b680-b3bf39e3691f",
        "outputId": "017968e7-ef40-4c72-a47e-d5bb112df251"
      },
      "outputs": [
        {
          "output_type": "stream",
          "name": "stderr",
          "text": [
            "/usr/local/lib/python3.10/dist-packages/langsmith/client.py:354: LangSmithMissingAPIKeyWarning: API key must be provided when using hosted LangSmith API\n",
            "  warnings.warn(\n"
          ]
        },
        {
          "output_type": "stream",
          "name": "stdout",
          "text": [
            "================================\u001b[1m System Message \u001b[0m================================\n",
            "\n",
            "You are a helpful assistant.\n",
            "\n",
            "=============================\u001b[1m Messages Placeholder \u001b[0m=============================\n",
            "\n",
            "\u001b[33;1m\u001b[1;3m{messages}\u001b[0m\n"
          ]
        }
      ],
      "source": [
        "from langchain import hub\n",
        "from langchain_openai import ChatOpenAI\n",
        "\n",
        "from langgraph.prebuilt import create_react_agent\n",
        "\n",
        "# Get the prompt to use - you can modify this!\n",
        "prompt = hub.pull(\"ih/ih-react-agent-executor\")\n",
        "prompt.pretty_print()\n",
        "\n",
        "# Choose the LLM that will drive the agent\n",
        "llm = ChatOpenAI(model=\"gpt-4-turbo-preview\")\n",
        "agent_executor = create_react_agent(llm, tools, state_modifier=prompt)"
      ]
    },
    {
      "cell_type": "code",
      "execution_count": null,
      "id": "746e697a-dec4-4342-a814-9b3456828169",
      "metadata": {
        "colab": {
          "base_uri": "https://localhost:8080/"
        },
        "id": "746e697a-dec4-4342-a814-9b3456828169",
        "outputId": "5fe7b860-713d-47b9-dd42-8f9ef275db01"
      },
      "outputs": [
        {
          "output_type": "execute_result",
          "data": {
            "text/plain": [
              "{'messages': [HumanMessage(content='who is the winnner of the us open', additional_kwargs={}, response_metadata={}, id='9a9607b7-28ab-4552-be2f-b686987e9306'),\n",
              "  AIMessage(content='', additional_kwargs={'tool_calls': [{'id': 'call_t0odTeKG5o0rctutZnKJIkre', 'function': {'arguments': '{\"query\":\"US Open 2023 winner\"}', 'name': 'tavily_search_results_json'}, 'type': 'function'}], 'refusal': None}, response_metadata={'token_usage': {'completion_tokens': 23, 'prompt_tokens': 97, 'total_tokens': 120, 'completion_tokens_details': {'audio_tokens': None, 'reasoning_tokens': 0}, 'prompt_tokens_details': {'audio_tokens': None, 'cached_tokens': 0}}, 'model_name': 'gpt-4-0125-preview', 'system_fingerprint': None, 'finish_reason': 'tool_calls', 'logprobs': None}, id='run-d88f9f09-4893-474c-91f2-c2883459b0e7-0', tool_calls=[{'name': 'tavily_search_results_json', 'args': {'query': 'US Open 2023 winner'}, 'id': 'call_t0odTeKG5o0rctutZnKJIkre', 'type': 'tool_call'}], usage_metadata={'input_tokens': 97, 'output_tokens': 23, 'total_tokens': 120, 'input_token_details': {'cache_read': 0}, 'output_token_details': {'reasoning': 0}}),\n",
              "  ToolMessage(content='[{\"url\": \"https://apnews.com/article/us-open-final-live-updates-djokovic-medvedev-8a4a26f8d77ef9ab2fb3efe1096dce7e\", \"content\": \"Novak Djokovic wins the US Open for his 24th Grand Slam title by beating Daniil Medvedev\\\\nNovak Djokovic, of Serbia, holds up the championship trophy after defeating Daniil Medvedev, of Russia, in the men’s singles final of the U.S. Open tennis championships, Sunday, Sept. 10, 2023, in New York. (AP Photo/Manu Fernandez)\\\\nDaniil Medvedev, of Russia, sits on the court after a rally against Novak Djokovic, of Serbia, during the men’s singles final of the U.S. Open tennis championships, Sunday, Sept. 10, 2023, in New York. (AP Photo/Manu Fernandez)\\\\nDaniil Medvedev, of Russia, sits on the court after a rally against Novak Djokovic, of Serbia, during the men’s singles final of the U.S. Open tennis championships, Sunday, Sept. 10, 2023, in New York. (AP Photo/Manu Fernandez)\\\\nDaniil Medvedev, of Russia, sits on the court after a rally against Novak Djokovic, of Serbia, during the men’s singles final of the U.S. Open tennis championships, Sunday, Sept. 10, 2023, in New York. Novak Djokovic, of Serbia, reveals a t-shirt honoring the number 24 and Kobe Bryant after defeating Daniil Medvedev, of Russia, in the men’s singles final of the U.S. Open tennis championships, Sunday, Sept. 10, 2023, in New York.\"}, {\"url\": \"https://www.sportskeeda.com/tennis/news-us-open-2023-winners-complete-list-men-s-women-s-singles-doubles-champions\", \"content\": \"Other champions at US Open 2023\\\\nWheelchair Men\\'s singles: Alfie Hewett\\\\nWheelchair Women\\'s singles: Diede de Groot\\\\nWheelchair quad singles: Sam Schroder\\\\nWheelchair men\\'s doubles: Stephane Houdet and Takashi Sanada\\\\nWheelchair women\\'s doubles: Yui Kamiji and Tgothatso Montjane\\\\nWheelchair quad doubles: Sam Schroder and Niels Vink\\\\nBoys\\' singles: Joao Fonseca\\\\nGirls\\' singles: Katherine Hui\\\\nBoys\\' doubles: Max Dahlin and Oliver Ojakaar\\\\nGirls\\' doubles: Mara Gae and Anastasiia Gureva\\\\nWheelchair boys\\' singles: Dahnon Ward\\\\nWheelchair girls\\' singles: Ksenia Chasteau\\\\nWheelchair boys\\' singles: Dahnon Ward and Joshua Johns\\\\nWheelchair girls\\' singles: Ksenia Chasteau and Maylee Phelps\\\\nHow did Novak Djokovic meet Jelena Ristic? US Open 2023 Men\\'s doubles champions: Rajeev Ram and Joe Salisbury\\\\nRajeev Ram and Joe Salisbury successfully defended their title in the men\\'s doubles title at the US Open by beating Rohan Bopanna and Matthew Ebden 2-6, 6-3, 6-4 in the final.\\\\n US Open 2023 Mixed doubles champions: Harri Heliovaara and Anna Dalinina\\\\nThe Finnish-Kazakh pair of Harri Heliovaara and Anna Dalinina won the mixed doubles title at the US Open, beating top seeds Jessica Pegula and Austin Krajicek 6-3, 6-4 in the final. Gabriela Dabrowski and Erin Routcliffe\\\\n16th seeds Gabriela Dabrowski and Erin Routliffe won the women\\'s doubles title at the US Open by defeating 12th seeds Vera Zvonareva and Laura Siegemund 7-6(9), 6-3 in the final.\\\\n With the win, Dabrowski became the first Canadian player to win a women\\'s doubles title at a Grand Slam while Routliffe became the first New Zealander to win any title at the US Open.\\\\n\"}, {\"url\": \"https://www.usopen.org/en_US/news/articles/2023-09-10/novak_djokovic_wins_24th_grand_slam_singles_title_at_2023_us_open.html\", \"content\": \"Novak Djokovic defeated Daniil Medvedev in three sets to claim his 24th Grand Slam singles title and match Margaret Court\\'s all-time record. The Serb saved a set point in the second set and attacked the net to win his fourth US Open crown.\"}]', name='tavily_search_results_json', id='47108957-b972-4390-ba4e-066cb6c15644', tool_call_id='call_t0odTeKG5o0rctutZnKJIkre', artifact={'query': 'US Open 2023 winner', 'follow_up_questions': None, 'answer': None, 'images': [], 'results': [{'title': \"US Open men's final: Novak Djokovic beats Daniil Medvedev and wins 24th ...\", 'url': 'https://apnews.com/article/us-open-final-live-updates-djokovic-medvedev-8a4a26f8d77ef9ab2fb3efe1096dce7e', 'content': 'Novak Djokovic wins the US Open for his 24th Grand Slam title by beating Daniil Medvedev\\nNovak Djokovic, of Serbia, holds up the championship trophy after defeating Daniil Medvedev, of Russia, in the men’s singles final of the U.S. Open tennis championships, Sunday, Sept. 10, 2023, in New York. (AP Photo/Manu Fernandez)\\nDaniil Medvedev, of Russia, sits on the court after a rally against Novak Djokovic, of Serbia, during the men’s singles final of the U.S. Open tennis championships, Sunday, Sept. 10, 2023, in New York. (AP Photo/Manu Fernandez)\\nDaniil Medvedev, of Russia, sits on the court after a rally against Novak Djokovic, of Serbia, during the men’s singles final of the U.S. Open tennis championships, Sunday, Sept. 10, 2023, in New York. (AP Photo/Manu Fernandez)\\nDaniil Medvedev, of Russia, sits on the court after a rally against Novak Djokovic, of Serbia, during the men’s singles final of the U.S. Open tennis championships, Sunday, Sept. 10, 2023, in New York. Novak Djokovic, of Serbia, reveals a t-shirt honoring the number 24 and Kobe Bryant after defeating Daniil Medvedev, of Russia, in the men’s singles final of the U.S. Open tennis championships, Sunday, Sept. 10, 2023, in New York.', 'score': 0.99923277, 'raw_content': None}, {'title': \"US Open 2023 Winners: Complete list of men's and women's singles and ...\", 'url': 'https://www.sportskeeda.com/tennis/news-us-open-2023-winners-complete-list-men-s-women-s-singles-doubles-champions', 'content': \"Other champions at US Open 2023\\nWheelchair Men's singles: Alfie Hewett\\nWheelchair Women's singles: Diede de Groot\\nWheelchair quad singles: Sam Schroder\\nWheelchair men's doubles: Stephane Houdet and Takashi Sanada\\nWheelchair women's doubles: Yui Kamiji and Tgothatso Montjane\\nWheelchair quad doubles: Sam Schroder and Niels Vink\\nBoys' singles: Joao Fonseca\\nGirls' singles: Katherine Hui\\nBoys' doubles: Max Dahlin and Oliver Ojakaar\\nGirls' doubles: Mara Gae and Anastasiia Gureva\\nWheelchair boys' singles: Dahnon Ward\\nWheelchair girls' singles: Ksenia Chasteau\\nWheelchair boys' singles: Dahnon Ward and Joshua Johns\\nWheelchair girls' singles: Ksenia Chasteau and Maylee Phelps\\nHow did Novak Djokovic meet Jelena Ristic? US Open 2023 Men's doubles champions: Rajeev Ram and Joe Salisbury\\nRajeev Ram and Joe Salisbury successfully defended their title in the men's doubles title at the US Open by beating Rohan Bopanna and Matthew Ebden 2-6, 6-3, 6-4 in the final.\\n US Open 2023 Mixed doubles champions: Harri Heliovaara and Anna Dalinina\\nThe Finnish-Kazakh pair of Harri Heliovaara and Anna Dalinina won the mixed doubles title at the US Open, beating top seeds Jessica Pegula and Austin Krajicek 6-3, 6-4 in the final. Gabriela Dabrowski and Erin Routcliffe\\n16th seeds Gabriela Dabrowski and Erin Routliffe won the women's doubles title at the US Open by defeating 12th seeds Vera Zvonareva and Laura Siegemund 7-6(9), 6-3 in the final.\\n With the win, Dabrowski became the first Canadian player to win a women's doubles title at a Grand Slam while Routliffe became the first New Zealander to win any title at the US Open.\\n\", 'score': 0.9981541, 'raw_content': None}, {'title': 'Novak Djokovic wins 24th Grand Slam singles title at 2023 US Open', 'url': 'https://www.usopen.org/en_US/news/articles/2023-09-10/novak_djokovic_wins_24th_grand_slam_singles_title_at_2023_us_open.html', 'content': \"Novak Djokovic defeated Daniil Medvedev in three sets to claim his 24th Grand Slam singles title and match Margaret Court's all-time record. The Serb saved a set point in the second set and attacked the net to win his fourth US Open crown.\", 'score': 0.8146434, 'raw_content': None}], 'response_time': 3.98}),\n",
              "  AIMessage(content=\"The winner of the US Open 2023 men's singles was Novak Djokovic. He won his 24th Grand Slam title by defeating Daniil Medvedev.\", additional_kwargs={'refusal': None}, response_metadata={'token_usage': {'completion_tokens': 37, 'prompt_tokens': 1136, 'total_tokens': 1173, 'completion_tokens_details': {'audio_tokens': None, 'reasoning_tokens': 0}, 'prompt_tokens_details': {'audio_tokens': None, 'cached_tokens': 0}}, 'model_name': 'gpt-4-0125-preview', 'system_fingerprint': None, 'finish_reason': 'stop', 'logprobs': None}, id='run-5a05b9c2-d4ab-4445-ac3a-5f76f38cf155-0', usage_metadata={'input_tokens': 1136, 'output_tokens': 37, 'total_tokens': 1173, 'input_token_details': {'cache_read': 0}, 'output_token_details': {'reasoning': 0}})]}"
            ]
          },
          "metadata": {},
          "execution_count": 5
        }
      ],
      "source": [
        "agent_executor.invoke({\"messages\": [(\"user\", \"who is the winnner of the us open\")]})"
      ]
    },
    {
      "cell_type": "markdown",
      "id": "5cf66804-44b2-4904-b1a7-17ad70b551f5",
      "metadata": {
        "id": "5cf66804-44b2-4904-b1a7-17ad70b551f5"
      },
      "source": [
        "## Define the State\n",
        "\n",
        "Let's now start by defining the state the track for this agent.\n",
        "\n",
        "First, we will need to track the current plan. Let's represent that as a list of strings.\n",
        "\n",
        "Next, we should track previously executed steps. Let's represent that as a list of tuples (these tuples will contain the step and then the result)\n",
        "\n",
        "Finally, we need to have some state to represent the final response as well as the original input."
      ]
    },
    {
      "cell_type": "code",
      "execution_count": null,
      "id": "8eeeaeea-8f10-4fbe-8e24-4e1a2381a009",
      "metadata": {
        "id": "8eeeaeea-8f10-4fbe-8e24-4e1a2381a009"
      },
      "outputs": [],
      "source": [
        "import operator\n",
        "from typing import Annotated, List, Tuple\n",
        "from typing_extensions import TypedDict\n",
        "\n",
        "\n",
        "class PlanExecute(TypedDict):\n",
        "    input: str\n",
        "    plan: List[str]\n",
        "    past_steps: Annotated[List[Tuple], operator.add]\n",
        "    response: str"
      ]
    },
    {
      "cell_type": "markdown",
      "id": "1dbd770a-9941-40a9-977e-4d55359eee21",
      "metadata": {
        "id": "1dbd770a-9941-40a9-977e-4d55359eee21"
      },
      "source": [
        "## Planning Step\n",
        "\n",
        "Let's now think about creating the planning step. This will use function calling to create a plan."
      ]
    },
    {
      "cell_type": "markdown",
      "id": "e12494fa-c6a2-4cfa-ae58-f72961437843",
      "metadata": {
        "id": "e12494fa-c6a2-4cfa-ae58-f72961437843"
      },
      "source": [
        "<div class=\"admonition note\">\n",
        "    <p class=\"admonition-title\">Using Pydantic with LangChain</p>\n",
        "    <p>\n",
        "        This notebook uses Pydantic v2 <code>BaseModel</code>, which requires <code>langchain-core >= 0.3</code>. Using <code>langchain-core < 0.3</code> will result in errors due to mixing of Pydantic v1 and v2 <code>BaseModels</code>.\n",
        "    </p>\n",
        "</div>"
      ]
    },
    {
      "cell_type": "code",
      "execution_count": null,
      "id": "4a88626d-6dfd-4488-87f0-a9a0dd6da44c",
      "metadata": {
        "id": "4a88626d-6dfd-4488-87f0-a9a0dd6da44c"
      },
      "outputs": [],
      "source": [
        "from pydantic import BaseModel, Field\n",
        "\n",
        "\n",
        "class Plan(BaseModel):\n",
        "    \"\"\"Plan to follow in future\"\"\"\n",
        "\n",
        "    steps: List[str] = Field(\n",
        "        description=\"different steps to follow, should be in sorted order\"\n",
        "    )"
      ]
    },
    {
      "cell_type": "code",
      "execution_count": null,
      "id": "ec7b1867-1ea3-4df3-9a98-992a1c32ec49",
      "metadata": {
        "id": "ec7b1867-1ea3-4df3-9a98-992a1c32ec49"
      },
      "outputs": [],
      "source": [
        "from langchain_core.prompts import ChatPromptTemplate\n",
        "\n",
        "planner_prompt = ChatPromptTemplate.from_messages(\n",
        "    [\n",
        "        (\n",
        "            \"system\",\n",
        "            \"\"\"For the given objective, come up with a simple step by step plan. \\\n",
        "This plan should involve individual tasks, that if executed correctly will yield the correct answer. Do not add any superfluous steps. \\\n",
        "The result of the final step should be the final answer. Make sure that each step has all the information needed - do not skip steps.\"\"\",\n",
        "        ),\n",
        "        (\"placeholder\", \"{messages}\"),\n",
        "    ]\n",
        ")\n",
        "planner = planner_prompt | ChatOpenAI(\n",
        "    model=\"gpt-4o\", temperature=0\n",
        ").with_structured_output(Plan)"
      ]
    },
    {
      "cell_type": "code",
      "execution_count": null,
      "id": "67ce37b7-e089-479b-bcb8-c3f5d9874613",
      "metadata": {
        "colab": {
          "base_uri": "https://localhost:8080/"
        },
        "id": "67ce37b7-e089-479b-bcb8-c3f5d9874613",
        "outputId": "849bed47-c47d-4144-81b5-fc11afda604d"
      },
      "outputs": [
        {
          "output_type": "execute_result",
          "data": {
            "text/plain": [
              "Plan(steps=['Identify the current year.', 'Determine the winner of the Australian Open for the current year.', 'Research the hometown of the identified winner.'])"
            ]
          },
          "metadata": {},
          "execution_count": 9
        }
      ],
      "source": [
        "planner.invoke(\n",
        "    {\n",
        "        \"messages\": [\n",
        "            (\"user\", \"what is the hometown of the current Australia open winner?\")\n",
        "        ]\n",
        "    }\n",
        ")"
      ]
    },
    {
      "cell_type": "markdown",
      "id": "6e09ad9d-6f90-4bdc-bb43-b1ce94517c29",
      "metadata": {
        "id": "6e09ad9d-6f90-4bdc-bb43-b1ce94517c29"
      },
      "source": [
        "## Re-Plan Step\n",
        "\n",
        "Now, let's create a step that re-does the plan based on the result of the previous step."
      ]
    },
    {
      "cell_type": "code",
      "execution_count": null,
      "id": "ec2d12cc-016a-44d1-aa08-4c5ce1e8fe2a",
      "metadata": {
        "id": "ec2d12cc-016a-44d1-aa08-4c5ce1e8fe2a"
      },
      "outputs": [],
      "source": [
        "from typing import Union\n",
        "\n",
        "\n",
        "class Response(BaseModel):\n",
        "    \"\"\"Response to user.\"\"\"\n",
        "\n",
        "    response: str\n",
        "\n",
        "\n",
        "class Act(BaseModel):\n",
        "    \"\"\"Action to perform.\"\"\"\n",
        "\n",
        "    action: Union[Response, Plan] = Field(\n",
        "        description=\"Action to perform. If you want to respond to user, use Response. \"\n",
        "        \"If you need to further use tools to get the answer, use Plan.\"\n",
        "    )\n",
        "\n",
        "\n",
        "replanner_prompt = ChatPromptTemplate.from_template(\n",
        "    \"\"\"For the given objective, come up with a simple step by step plan. \\\n",
        "This plan should involve individual tasks, that if executed correctly will yield the correct answer. Do not add any superfluous steps. \\\n",
        "The result of the final step should be the final answer. Make sure that each step has all the information needed - do not skip steps.\n",
        "\n",
        "Your objective was this:\n",
        "{input}\n",
        "\n",
        "Your original plan was this:\n",
        "{plan}\n",
        "\n",
        "You have currently done the follow steps:\n",
        "{past_steps}\n",
        "\n",
        "Update your plan accordingly. If no more steps are needed and you can return to the user, then respond with that. Otherwise, fill out the plan. Only add steps to the plan that still NEED to be done. Do not return previously done steps as part of the plan.\"\"\"\n",
        ")\n",
        "\n",
        "\n",
        "replanner = replanner_prompt | ChatOpenAI(\n",
        "    model=\"gpt-4o\", temperature=0\n",
        ").with_structured_output(Act)"
      ]
    },
    {
      "cell_type": "markdown",
      "id": "859abd13-6ba0-45ad-b341-e652dd5f755b",
      "metadata": {
        "id": "859abd13-6ba0-45ad-b341-e652dd5f755b"
      },
      "source": [
        "## Create the Graph\n",
        "\n",
        "We can now create the graph!"
      ]
    },
    {
      "cell_type": "code",
      "execution_count": null,
      "id": "6c8e0dad-bcea-4c9a-8922-0d820892e2d0",
      "metadata": {
        "id": "6c8e0dad-bcea-4c9a-8922-0d820892e2d0"
      },
      "outputs": [],
      "source": [
        "from typing import Literal\n",
        "from langgraph.graph import END\n",
        "\n",
        "\n",
        "async def execute_step(state: PlanExecute):\n",
        "    plan = state[\"plan\"]\n",
        "    plan_str = \"\\n\".join(f\"{i+1}. {step}\" for i, step in enumerate(plan))\n",
        "    task = plan[0]\n",
        "    task_formatted = f\"\"\"For the following plan:\n",
        "{plan_str}\\n\\nYou are tasked with executing step {1}, {task}.\"\"\"\n",
        "    agent_response = await agent_executor.ainvoke(\n",
        "        {\"messages\": [(\"user\", task_formatted)]}\n",
        "    )\n",
        "    return {\n",
        "        \"past_steps\": [(task, agent_response[\"messages\"][-1].content)],\n",
        "    }\n",
        "\n",
        "\n",
        "async def plan_step(state: PlanExecute):\n",
        "    plan = await planner.ainvoke({\"messages\": [(\"user\", state[\"input\"])]})\n",
        "    return {\"plan\": plan.steps}\n",
        "\n",
        "\n",
        "async def replan_step(state: PlanExecute):\n",
        "    output = await replanner.ainvoke(state)\n",
        "    if isinstance(output.action, Response):\n",
        "        return {\"response\": output.action.response}\n",
        "    else:\n",
        "        return {\"plan\": output.action.steps}\n",
        "\n",
        "\n",
        "def should_end(state: PlanExecute):\n",
        "    if \"response\" in state and state[\"response\"]:\n",
        "        return END\n",
        "    else:\n",
        "        return \"agent\""
      ]
    },
    {
      "cell_type": "code",
      "execution_count": null,
      "id": "e954cea0-5ccc-46c2-a27b-f5b7185b597d",
      "metadata": {
        "id": "e954cea0-5ccc-46c2-a27b-f5b7185b597d"
      },
      "outputs": [],
      "source": [
        "from langgraph.graph import StateGraph, START\n",
        "\n",
        "workflow = StateGraph(PlanExecute)\n",
        "\n",
        "# Add the plan node\n",
        "workflow.add_node(\"planner\", plan_step)\n",
        "\n",
        "# Add the execution step\n",
        "workflow.add_node(\"agent\", execute_step)\n",
        "\n",
        "# Add a replan node\n",
        "workflow.add_node(\"replan\", replan_step)\n",
        "\n",
        "workflow.add_edge(START, \"planner\")\n",
        "\n",
        "# From plan we go to agent\n",
        "workflow.add_edge(\"planner\", \"agent\")\n",
        "\n",
        "# From agent, we replan\n",
        "workflow.add_edge(\"agent\", \"replan\")\n",
        "\n",
        "workflow.add_conditional_edges(\n",
        "    \"replan\",\n",
        "    # Next, we pass in the function that will determine which node is called next.\n",
        "    should_end,\n",
        "    [\"agent\", END],\n",
        ")\n",
        "\n",
        "# Finally, we compile it!\n",
        "# This compiles it into a LangChain Runnable,\n",
        "# meaning you can use it as you would any other runnable\n",
        "app = workflow.compile()"
      ]
    },
    {
      "cell_type": "code",
      "execution_count": null,
      "id": "7363e528",
      "metadata": {
        "colab": {
          "base_uri": "https://localhost:8080/",
          "height": 697
        },
        "id": "7363e528",
        "outputId": "e252bb94-8825-47ff-fc43-0d2d4154d9f4"
      },
      "outputs": [
        {
          "output_type": "display_data",
          "data": {
            "image/jpeg": "[encoded data removed]",
            "text/plain": [
              "<IPython.core.display.Image object>"
            ]
          },
          "metadata": {}
        }
      ],
      "source": [
        "from IPython.display import Image, display\n",
        "\n",
        "display(Image(app.get_graph(xray=True).draw_mermaid_png()))"
      ]
    },
    {
      "cell_type": "code",
      "execution_count": null,
      "id": "b8ac1f67-e87a-427c-b4f7-44351295b788",
      "metadata": {
        "colab": {
          "base_uri": "https://localhost:8080/"
        },
        "id": "b8ac1f67-e87a-427c-b4f7-44351295b788",
        "outputId": "90b7d8cb-3407-4d44-8a83-c43fe57ca866"
      },
      "outputs": [
        {
          "output_type": "stream",
          "name": "stdout",
          "text": [
            "planner {'plan': ['Collect financial data for Toast and Marqueta for the year 2023 to 2024, focusing on Revenue, ARR, and Growth metrics.', 'Collect margin metrics data for Toast and Marqueta for the year 2023 to 2024, focusing on Gross, Net, Operating, and EBITDA margins.', 'Collect data on forward guidance and actuals for each quarter for Toast and Marqueta for the year 2023 to 2024.', 'Create a spreadsheet with separate sections for financial metrics, margin metrics, and forward guidance vs actuals.', 'In the financial metrics section, list the Revenue, ARR, and Growth for each company by quarter.', 'In the margin metrics section, list the Gross, Net, Operating, and EBITDA margins for each company by quarter.', 'In the forward guidance vs actuals section, compare the forward guidance given by each company with the actual results for each quarter.', \"Analyze the data to identify trends, strengths, and weaknesses in Toast's financial and margin metrics compared to Marqueta.\", 'Summarize the findings in a report, highlighting areas where Toast is ready for IPO and areas that need improvement.']}\n",
            "agent {'past_steps': [('Collect financial data for Toast and Marqueta for the year 2023 to 2024, focusing on Revenue, ARR, and Growth metrics.', '### Toast Financial Data for 2023 to 2024\\n\\n**Revenue, ARR, and Growth Metrics:**\\n- **Sales or Revenue Growth:** Toast reported a sales or revenue growth of +41.52% for the year ending in June 2024.\\n- **ARR:** Toast reported a robust 35% increase in Annual Recurring Revenue (ARR) to over $1.2 billion as of December 31, 2023.\\n- **Gross Payment Volume (GPV):** GPV increased by 32% for Q4 2023.\\n- **Total Annualized Recurring Run-Rate (ARR) as of December 31, 2023:** $1,218 million, a 35% increase from $901 million in 2022.\\n\\n[Source 1](https://www.wsj.com/market-data/quotes/TOST/financials), [Source 2](https://finance.yahoo.com/news/toast-inc-tost-reports-robust-213751806.html), [Source 3](https://www.nasdaq.com/press-release/toast-announces-fourth-quarter-and-full-year-2023-financial-results-2024-02-15)\\n\\n### Marqeta Financial Data for 2023 to 2024\\n\\n**Revenue, ARR, and Growth Metrics:**\\n- **Total Processing Volume:** Marqeta reported a total processing volume of $54 billion, up 33% year-over-year as of the second quarter of 2023.\\n- **Net Revenue:** For the second quarter of 2023, net revenue was $231 million, reflecting a 24% increase year-over-year.\\n- **Sales or Revenue Growth:** Marqeta experienced a decrease in sales or revenue growth, recording -9.63% by June 2024.\\n\\n[Source 1](https://annualreport.stocklight.com/nasdaq/mq/23687114.pdf), [Source 2](https://investors.marqeta.com/news-releases/news-release-details/marqeta-reports-second-quarter-2023-financial-results-announces), [Source 3](https://www.wsj.com/market-data/quotes/MQ/financials)\\n\\nThis data provides a snapshot of the financial performance of Toast and Marqueta for the year 2023 to 2024, focusing on key metrics such as revenue, ARR, and growth.')]}\n",
            "replan {'plan': ['Collect margin metrics data for Toast and Marqueta for the year 2023 to 2024, focusing on Gross, Net, Operating, and EBITDA margins.', 'Collect data on forward guidance and actuals for each quarter for Toast and Marqueta for the year 2023 to 2024.', 'Create a spreadsheet with separate sections for financial metrics, margin metrics, and forward guidance vs actuals.', 'In the financial metrics section, list the Revenue, ARR, and Growth for each company by quarter.', 'In the margin metrics section, list the Gross, Net, Operating, and EBITDA margins for each company by quarter.', 'In the forward guidance vs actuals section, compare the forward guidance given by each company with the actual results for each quarter.', \"Analyze the data to identify trends, strengths, and weaknesses in Toast's financial and margin metrics compared to Marqueta.\", 'Summarize the findings in a report, highlighting areas where Toast is ready for IPO and areas that need improvement.']}\n",
            "agent {'past_steps': [('Collect margin metrics data for Toast and Marqueta for the year 2023 to 2024, focusing on Gross, Net, Operating, and EBITDA margins.', \"I've collected the margin metrics data for Toast and Marqueta for the year 2023 to 2024, focusing on Gross, Net, Operating, and EBITDA margins. Here is a summary of the findings:\\n\\n### Toast Inc.\\n\\n- **Gross Profit Margin (March 31, 2024):** 23.03%. This metric indicates the overall efficiency of the company in turning revenue into gross profit, keeping the cost of goods sold low.\\n- **Net Profit Margin (as of June 30, 2024):** -3.1%. This percentage of revenue retained as income after the deduction of expenses shows that Toast was operating at a loss at this point.\\n- Additional detailed metrics for each quarter within the specified range could potentially be found in their financial statements and earnings reports, accessible through sources like [The Wall Street Journal](https://www.wsj.com/market-data/quotes/TOST/financials), [YCharts](https://ycharts.com/companies/TOST/gross_profit_margin), and [Macrotrends](https://www.macrotrends.net/stocks/charts/TOST/toast/profit-margins).\\n\\n### Marqeta\\n\\n- **Gross Margin (Q4 2023):** 70%. This high gross margin indicates a significant portion of revenue is retained after the cost of goods sold is deducted, reflecting efficient operations.\\n- **Net Profit Margin:** For various quarters leading into 2024, Marqeta experienced negative net profit margins, with rates such as -32.93% (March 31, 2024), -32.99% (December 31, 2023), and -27.46% (September 30, 2023), indicating that expenses exceeded revenues.\\n- **Operating Margin:** Detailed operating margins are expected to improve starting in the second half of 2024, as indicated in their financial metrics.\\n- **EBITDA Margin:** Specific EBITDA margin figures would need to be derived from detailed financial reports, such as those available on [Nasdaq](https://www.nasdaq.com/articles/marqeta-mq-q4-2023-earnings-call-transcript) or Marqeta's [investor relations website](https://investors.marqeta.com/static-files/c889f667-4066-4ff4-84fa-660bb7d194f8).\\n\\nThis data provides a foundational understanding of the margin metrics for both companies, highlighting areas of efficiency and challenge. Further, detailed analysis would be beneficial to understand the full scope of financial health and trends for both Toast and Marqeta in the specified period.\")]}\n",
            "replan {'plan': ['Collect data on forward guidance and actuals for each quarter for Toast and Marqueta for the year 2023 to 2024.', 'Create a spreadsheet with separate sections for financial metrics, margin metrics, and forward guidance vs actuals.', 'In the financial metrics section, list the Revenue, ARR, and Growth for each company by quarter.', 'In the margin metrics section, list the Gross, Net, Operating, and EBITDA margins for each company by quarter.', 'In the forward guidance vs actuals section, compare the forward guidance given by each company with the actual results for each quarter.', \"Analyze the data to identify trends, strengths, and weaknesses in Toast's financial and margin metrics compared to Marqueta.\", 'Summarize the findings in a report, highlighting areas where Toast is ready for IPO and areas that need improvement.']}\n",
            "agent {'past_steps': [('Collect data on forward guidance and actuals for each quarter for Toast and Marqueta for the year 2023 to 2024.', \"I've collected data on forward guidance and actuals for each quarter for Toast and Marqueta for the year 2023 to 2024. The information is summarized below:\\n\\n### Toast Inc.\\n\\n#### 2023\\n- **Q3 2023 Financial Results**: Toast announced its Q3 financial results on November 7, 2023. [Source](https://finance.yahoo.com/news/toast-inc-tost-reports-strong-221104292.html)\\n- **Q4 2023 Financial Results**: On February 15, 2024, Toast released its financial results for Q4 2023 and the full year. [Source](https://finance.yahoo.com/news/toast-inc-tost-reports-robust-213751806.html)\\n- **Q3 2023 Forward Guidance**: Forward guidance for Q3 and Q4 2023 was provided, focusing on expected revenue and financial metrics. [Source](https://finance.yahoo.com/news/q3-2023-toast-inc-earnings-141218718.html)\\n\\n#### 2024\\n- **Q1 2024 Financial Results**: First quarter 2024 financial results were announced, with a significant increase in revenue and updated ARR. [Source](https://www.sec.gov/Archives/edgar/data/1650164/000165016424000175/tost-20240331xexhibit991.htm)\\n- **Q1 2024 Forward Guidance**: Guidance for 2024 was provided early in the year, focusing on recurring gross profit streams. [Source](https://www.sec.gov/Archives/edgar/data/1650164/000165016424000069/tost-20231231xexhibit991.htm)\\n\\n### Marqueta\\n\\n#### 2023\\n- **Q3 and Q4 2023 Financial Results**: Marqeta released its financial results for Q3 on November 7, 2023, and for Q4, highlighting a 33% year-over-year increase in TPV for the quarter. [Source Q4](https://fintechavenue.com/news/marqeta-financial-results-q4-full-year-2023)\\n- **Q3 2023 Forward Guidance**: Forward guidance was provided, detailing expectations for financial performance and growth metrics. [Source](https://www.marketscreener.com/quote/stock/MARQETA-INC-123528971/news/Marqeta-Reports-First-Quarter-2023-Financial-Results-43793670/)\\n\\n#### 2024\\n- **Q1 2024 Financial Results**: The first quarter of 2024 showed a TPV of $67 billion, with net revenue of $118 million, indicating a 33% year-over-year increase. [Source](https://investors.marqeta.com/static-files/fbeff521-8d30-4f61-bf98-537ad1d16bdd)\\n- **Q1 2024 Forward Guidance**: Marqeta also provided forward guidance for the first quarter of 2024, focusing on TPV growth and net revenue expectations. [Source](https://finance.yahoo.com/news/marqeta-reports-first-quarter-2024-200300560.html)\\n\\nThis data will serve as the foundation for creating a detailed spreadsheet to compare and analyze Toast's and Marqueta's financial and margin metrics, forward guidance versus actuals, and overall financial health.\")]}\n",
            "replan {'plan': ['Create a spreadsheet with separate sections for financial metrics, margin metrics, and forward guidance vs actuals.', 'In the financial metrics section, list the Revenue, ARR, and Growth for each company by quarter.', 'In the margin metrics section, list the Gross, Net, Operating, and EBITDA margins for each company by quarter.', 'In the forward guidance vs actuals section, compare the forward guidance given by each company with the actual results for each quarter.', \"Analyze the data to identify trends, strengths, and weaknesses in Toast's financial and margin metrics compared to Marqueta.\", 'Summarize the findings in a report, highlighting areas where Toast is ready for IPO and areas that need improvement.']}\n",
            "agent {'past_steps': [('Create a spreadsheet with separate sections for financial metrics, margin metrics, and forward guidance vs actuals.', \"To create a comprehensive spreadsheet with separate sections for financial metrics, margin metrics, and forward guidance vs actuals, following these steps can guide you through the process:\\n\\n### Step 1: Open Your Spreadsheet Software\\nChoose your preferred spreadsheet software (e.g., Microsoft Excel, Google Sheets) and open a new document.\\n\\n### Step 2: Structure Your Spreadsheet\\nOrganize your spreadsheet into distinct sections for **Financial Metrics**, **Margin Metrics**, and **Forward Guidance vs Actuals**. You can do this by creating separate sheets within the document or dividing a single sheet into different areas.\\n\\n#### Financial Metrics Section\\n1. **Create Columns for:** Company Name, Quarter, Revenue, ARR (Annual Recurring Revenue), and Growth (%).\\n2. **Label the Rows** with each company's name (Toast, Marqueta) and further subdivide by quarters (e.g., Q1 2022, Q2 2022, etc.).\\n\\n#### Margin Metrics Section\\n1. **Create Columns for:** Company Name, Quarter, Gross Margin (%), Net Margin (%), Operating Margin (%), and EBITDA Margin (%).\\n2. **Label the Rows** similarly, with each company's name and the respective quarters.\\n\\n#### Forward Guidance vs Actuals Section\\n1. **Create Columns for:** Company Name, Quarter, Metric (you can have multiple rows for each metric per quarter, such as Revenue, ARR, etc.), Forward Guidance, Actuals, and Variance (%).\\n2. **Label the Rows** with each company's name and quarter, providing details for each metric where forward guidance was given.\\n\\n### Step 3: Input Data\\n- **Financial Metrics:** You'll need to research or have access to each company's revenue, ARR, and growth data by quarter.\\n- **Margin Metrics:** Similarly, gather data on each company's gross, net, operating, and EBITDA margins by quarter.\\n- **Forward Guidance vs Actuals:** Compile the forward guidance provided by each company for various metrics and compare these with the actual results once they're available, calculating the variance.\\n\\n### Step 4: Formatting\\n- **Use Conditional Formatting:** Highlight significant data points, like high growth rates or margins, and areas of concern, such as large variances between guidance and actuals.\\n- **Create Charts:** For visual analysis, consider creating charts or graphs to represent the trends over the quarters for both companies.\\n\\n### Step 5: Save and Share\\n- **Save Your Document** with an appropriate name and format.\\n- **Share Your Spreadsheet** with stakeholders or team members as needed, ensuring they have the correct permissions to view or edit the document.\\n\\nThis structured approach will help you create a clear and comprehensive spreadsheet that lays a solid foundation for analyzing and comparing Toast's and Marqueta's financial and margin metrics.\")]}\n",
            "replan {'plan': [\"Analyze the data in the spreadsheet to identify trends, strengths, and weaknesses in Toast's financial and margin metrics compared to Marqueta.\", 'Summarize the findings in a report, highlighting areas where Toast is ready for IPO and areas that need improvement.']}\n",
            "agent {'past_steps': [(\"Analyze the data in the spreadsheet to identify trends, strengths, and weaknesses in Toast's financial and margin metrics compared to Marqueta.\", \"To effectively analyze the data and identify trends, strengths, and weaknesses in Toast's financial and margin metrics compared to Marqueta, I would follow these steps:\\n\\n1. **Data Collection**: Ensure that we have the latest and most relevant financial data for both Toast and Marqueta. This data should include revenue, net income, operating margin, gross margin, EBITDA, and other relevant metrics over a significant period to identify trends.\\n\\n2. **Data Cleaning and Preparation**: Before analysis, it's crucial to clean and prepare the data. This step involves removing any inconsistencies, handling missing values, and formatting the data to make it suitable for comparison and analysis.\\n\\n3. **Descriptive Analysis**: Conduct a descriptive analysis to get a basic understanding of the financial health and performance of both companies. This includes calculating mean, median, standard deviation, and other descriptive statistics for each financial metric.\\n\\n4. **Trend Analysis**: Analyze the trend of key financial metrics over time for both companies. This involves looking at how revenue, margins, and other financial metrics have changed quarter-over-quarter or year-over-year. This step helps in understanding the growth trajectory and financial stability of both companies.\\n\\n5. **Ratio Analysis**: Perform ratio analysis to evaluate financial health, efficiency, and profitability. Key ratios to consider include gross margin ratio, net profit margin, operating margin ratio, return on assets (ROA), and return on equity (ROE). This analysis helps in comparing the operational efficiency and profitability of Toast and Marqueta.\\n\\n6. **Comparative Analysis**: Directly compare the financial metrics and ratios of Toast and Marqueta to identify strengths and weaknesses. This step involves looking at each company's performance in areas such as revenue growth, margin performance, profitability, and financial stability.\\n\\n7. **Identify Strengths and Weaknesses**: Based on the comparative analysis, identify where Toast is strong (e.g., higher gross margins, faster revenue growth) and where it is weak (e.g., lower profitability, higher expenses) compared to Marqueta.\\n\\n8. **Highlight Trends**: Highlight any significant trends that could impact the future performance of both companies, such as increasing/decreasing margins, shifts in revenue sources, or changes in market demand.\\n\\nWithout direct access to the specific financial data of Toast and Marqueta, these steps outline a general approach to analyzing and comparing their financial and margin metrics. The actual analysis would require access to the relevant financial statements or data sources.\")]}\n",
            "replan {'response': \"The analysis of the data in the spreadsheet has been completed, identifying trends, strengths, and weaknesses in Toast's financial and margin metrics compared to Marqueta. The next and final step is to summarize these findings in a report.\\n\\n### Updated Plan:\\n1. **Summarize the Findings in a Report**: Highlight areas where Toast is ready for IPO and areas that need improvement. This report should include:\\n   - A summary of the financial and margin metrics comparison.\\n   - Key trends identified from the analysis.\\n   - Strengths and weaknesses of Toast compared to Marqueta.\\n   - Recommendations for areas of improvement to enhance IPO readiness.\\n\\nOnce this report is completed, it will provide a comprehensive assessment of Toast's IPO readiness compared to Marqueta.\"}\n"
          ]
        }
      ],
      "source": [
        "config = {\"recursion_limit\": 50}\n",
        "inputs = {\"input\": \"\"\"I need to help me assess my company Toast for IPO readiness and create a report.\n",
        "IPO Readiness is measured by comparing my company (in the fintech industry) with a prior company (Marqueta) in my industry that have gone through IPO.\n",
        "The IPO Readiness should measure across “financial metrics” (Revenue, ARR, Growth etc), “Margin metrics” (Gross, Net, Operating, EBITDA etc) and “forward guidance given in each quarter compared to actuals”\n",
        "Your task is to compare the financial metrics as defined above for Toast and Marqueta over the past year from 2023 to 2024 and give a detailed report like a spreadsheet \"\"\"}\n",
        "ans = []\n",
        "\n",
        "async for event in app.astream(inputs, config=config):\n",
        "\n",
        "    for k, v in event.items():\n",
        "        ans.append({k:v})\n",
        "        if k != \"__end__\":\n",
        "            print(k,v)"
      ]
    },
    {
      "cell_type": "code",
      "source": [
        "final_planner_prompt = ChatPromptTemplate.from_messages(\n",
        "    [\n",
        "        (\n",
        "            \"system\",\n",
        "            \"\"\"You are a friendly assistant\"\"\",\n",
        "        ),\n",
        "        (\"placeholder\", \"{messages}\"),\n",
        "    ]\n",
        ")\n",
        "final_planner = final_planner_prompt | ChatOpenAI(\n",
        "    model=\"gpt-4o\", temperature=0\n",
        ")"
      ],
      "metadata": {
        "id": "DYit3OBGR1FP"
      },
      "id": "DYit3OBGR1FP",
      "execution_count": null,
      "outputs": []
    },
    {
      "cell_type": "code",
      "source": [
        "query = \"\"\"Take the context provided, and write a spreadsheet report about IPO readiness for Toast in comparison with Marqueta.\n",
        "The IPO Readiness should measure across “financial metrics” (Revenue, ARR, Growth etc), “Margin metrics” (Gross, Net, Operating, EBITDA etc) and “forward guidance given in each quarter compared to actuals”\n",
        "Your task is to compare the financial metrics as defined above for Toast and Marqueta over the past year from 2023 to 2024 and give a detailed report like a spreadsheet\n",
        "solely based on the context.\"\"\"\n",
        "\n",
        "resp = final_planner.invoke(\n",
        "    {\n",
        "        \"messages\": [\n",
        "            (\"user\", f\"\"\"Query: {query}\n",
        "             context: f{ans}\"\"\")\n",
        "        ]\n",
        "    }\n",
        ")"
      ],
      "metadata": {
        "id": "7fUiVIDySMk_"
      },
      "id": "7fUiVIDySMk_",
      "execution_count": null,
      "outputs": []
    },
    {
      "cell_type": "code",
      "source": [
        "print(resp.content)"
      ],
      "metadata": {
        "colab": {
          "base_uri": "https://localhost:8080/"
        },
        "id": "clOcAZpNVU6L",
        "outputId": "546078d0-ebf6-4ce1-dbaf-5140a43d4728"
      },
      "id": "clOcAZpNVU6L",
      "execution_count": null,
      "outputs": [
        {
          "output_type": "stream",
          "name": "stdout",
          "text": [
            "Based on the context provided, here is a detailed spreadsheet report comparing the IPO readiness of Toast and Marqueta across financial metrics, margin metrics, and forward guidance versus actuals for the year 2023 to 2024.\n",
            "\n",
            "### Spreadsheet Report\n",
            "\n",
            "#### Financial Metrics\n",
            "\n",
            "| Company  | Quarter | Revenue Growth (%) | ARR ($ Million) | ARR Growth (%) |\n",
            "|----------|---------|--------------------|-----------------|----------------|\n",
            "| Toast    | Q4 2023 | +41.52%            | 1,218           | +35%           |\n",
            "| Marqueta | Q2 2023 | +24%               | N/A             | N/A            |\n",
            "| Marqueta | Q4 2023 | -9.63%             | N/A             | N/A            |\n",
            "\n",
            "#### Margin Metrics\n",
            "\n",
            "| Company  | Quarter | Gross Margin (%) | Net Margin (%) | Operating Margin (%) | EBITDA Margin (%) |\n",
            "|----------|---------|------------------|----------------|----------------------|-------------------|\n",
            "| Toast    | Q1 2024 | 23.03%           | -3.1%          | N/A                  | N/A               |\n",
            "| Marqueta | Q4 2023 | 70%              | -32.99%        | N/A                  | N/A               |\n",
            "| Marqueta | Q1 2024 | N/A              | -32.93%        | N/A                  | N/A               |\n",
            "\n",
            "#### Forward Guidance vs Actuals\n",
            "\n",
            "| Company  | Quarter | Metric  | Forward Guidance | Actuals | Variance (%) |\n",
            "|----------|---------|---------|------------------|---------|--------------|\n",
            "| Toast    | Q3 2023 | Revenue | Provided         | Actuals | N/A          |\n",
            "| Marqueta | Q3 2023 | TPV     | Provided         | $54B    | N/A          |\n",
            "| Marqueta | Q1 2024 | TPV     | Provided         | $67B    | N/A          |\n",
            "\n",
            "### Analysis and Findings\n",
            "\n",
            "#### Trends\n",
            "- **Toast** has shown strong revenue growth and ARR increase, indicating a positive trajectory in financial performance. However, the net profit margin is negative, suggesting challenges in profitability.\n",
            "- **Marqueta** has a high gross margin, indicating efficient operations, but consistently negative net profit margins highlight profitability issues.\n",
            "\n",
            "#### Strengths\n",
            "- **Toast**: Strong revenue and ARR growth suggest robust business expansion and customer retention.\n",
            "- **Marqueta**: High gross margin reflects efficient cost management and potential for profitability improvement.\n",
            "\n",
            "#### Weaknesses\n",
            "- **Toast**: Negative net profit margin indicates a need to control costs and improve profitability.\n",
            "- **Marqueta**: Declining revenue growth and negative net margins suggest financial instability and the need for strategic adjustments.\n",
            "\n",
            "### Recommendations for Toast\n",
            "- **Cost Management**: Focus on reducing operational costs to improve net profit margins.\n",
            "- **Profitability Strategies**: Explore strategies to convert revenue growth into sustainable profitability.\n",
            "- **Market Positioning**: Leverage strong ARR growth to enhance market positioning and investor confidence.\n",
            "\n",
            "### Conclusion\n",
            "Toast shows promising growth metrics, making it a strong candidate for IPO readiness. However, addressing profitability challenges is crucial for a successful IPO. Marqueta, while efficient in operations, needs to address its revenue growth and profitability issues to enhance its IPO prospects.\n"
          ]
        }
      ]
    },
    {
      "cell_type": "markdown",
      "id": "8bf585a9-0f1e-4910-bd00-65e7bb05b6e6",
      "metadata": {
        "id": "8bf585a9-0f1e-4910-bd00-65e7bb05b6e6"
      },
      "source": [
        "## Conclusion\n",
        "\n",
        "Congrats on making a plan-and-execute agent! One known limitations of the above design is that each task is still executed in sequence, meaning embarrassingly parallel operations all add to the total execution time. You could improve on this by having each task represented as a DAG (similar to LLMCompiler), rather than a regular list."
      ]
    },
    {
      "cell_type": "code",
      "source": [],
      "metadata": {
        "id": "YMRWK23bVUNa"
      },
      "id": "YMRWK23bVUNa",
      "execution_count": null,
      "outputs": []
    }
  ],
  "metadata": {
    "kernelspec": {
      "display_name": "Python 3 (ipykernel)",
      "language": "python",
      "name": "python3"
    },
    "language_info": {
      "codemirror_mode": {
        "name": "ipython",
        "version": 3
      },
      "file_extension": ".py",
      "mimetype": "text/x-python",
      "name": "python",
      "nbconvert_exporter": "python",
      "pygments_lexer": "ipython3",
      "version": "3.11.9"
    },
    "colab": {
      "provenance": []
    }
  },
  "nbformat": 4,
  "nbformat_minor": 5
}