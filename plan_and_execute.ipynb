{
  "cells": [
    {
      "cell_type": "markdown",
      "id": "79b5811c-1074-495f-9722-8325b5e717d3",
      "metadata": {
        "id": "79b5811c-1074-495f-9722-8325b5e717d3"
      },
      "source": [
        "# Plan-and-Execute\n",
        "\n",
        "This notebook shows how to create a \"plan-and-execute\" style agent. This is heavily inspired by the [Plan-and-Solve](https://arxiv.org/abs/2305.04091) paper as well as the [Baby-AGI](https://github.com/yoheinakajima/babyagi) project.\n",
        "\n",
        "The core idea is to first come up with a multi-step plan, and then go through that plan one item at a time.\n",
        "After accomplishing a particular task, you can then revisit the plan and modify as appropriate.\n",
        "\n",
        "\n",
        "This compares to a typical [ReAct](https://arxiv.org/abs/2210.03629) style agent where you think one step at a time.\n",
        "The advantages of this \"plan-and-execute\" style agent are:\n",
        "\n",
        "1. Explicit long term planning (which even really strong LLMs can struggle with)\n",
        "2. Ability to use smaller/weaker models for the execution step, only using larger/better models for the planning step\n",
        "\n",
        "\n",
        "The following walkthrough demonstrates how to do so in LangGraph. The resulting agent will leave a trace like the following example: ([link](https://smith.langchain.com/public/d46e24d3-dda6-44d5-9550-b618fca4e0d4/r))."
      ]
    },
    {
      "cell_type": "markdown",
      "id": "a44a72d6-7e0c-4478-9d20-4c09000420a8",
      "metadata": {
        "id": "a44a72d6-7e0c-4478-9d20-4c09000420a8"
      },
      "source": [
        "## Setup\n",
        "\n",
        "First, we need to install the packages required."
      ]
    },
    {
      "cell_type": "code",
      "execution_count": 1,
      "id": "b451b58a-89bd-424f-8c06-0d9fe325e01b",
      "metadata": {
        "id": "b451b58a-89bd-424f-8c06-0d9fe325e01b"
      },
      "outputs": [],
      "source": [
        "%%capture --no-stderr\n",
        "%pip install --quiet -U langgraph langchain-community langchain-openai tavily-python"
      ]
    },
    {
      "cell_type": "markdown",
      "id": "35f267b0-98db-4a59-8b2c-a23f795576ff",
      "metadata": {
        "id": "35f267b0-98db-4a59-8b2c-a23f795576ff"
      },
      "source": [
        "Next, we need to set API keys for OpenAI (the LLM we will use) and Tavily (the search tool we will use)"
      ]
    },
    {
      "cell_type": "code",
      "execution_count": 2,
      "id": "ce438281-08d5-4804-afe7-e4089f7b016b",
      "metadata": {
        "colab": {
          "base_uri": "https://localhost:8080/"
        },
        "id": "ce438281-08d5-4804-afe7-e4089f7b016b",
        "outputId": "bff617c9-56a0-4d8a-d423-3eaa207ddca4"
      },
      "outputs": [
        {
          "name": "stdout",
          "output_type": "stream",
          "text": [
            "OPENAI_API_KEY: ··········\n",
            "TAVILY_API_KEY: ··········\n"
          ]
        }
      ],
      "source": [
        "import getpass\n",
        "import os\n",
        "\n",
        "\n",
        "def _set_env(var: str):\n",
        "    if not os.environ.get(var):\n",
        "        os.environ[var] = getpass.getpass(f\"{var}: \")\n",
        "\n",
        "\n",
        "_set_env(\"OPENAI_API_KEY\")\n",
        "_set_env(\"TAVILY_API_KEY\")"
      ]
    },
    {
      "cell_type": "markdown",
      "id": "be2d7981-3737-4134-8bef-d00d18d4e91d",
      "metadata": {
        "id": "be2d7981-3737-4134-8bef-d00d18d4e91d"
      },
      "source": [
        "<div class=\"admonition tip\">\n",
        "    <p class=\"admonition-title\">Set up <a href=\"https://smith.langchain.com\">LangSmith</a> for LangGraph development</p>\n",
        "    <p style=\"padding-top: 5px;\">\n",
        "        Sign up for LangSmith to quickly spot issues and improve the performance of your LangGraph projects. LangSmith lets you use trace data to debug, test, and monitor your LLM apps built with LangGraph — read more about how to get started <a href=\"https://docs.smith.langchain.com\">here</a>.\n",
        "    </p>\n",
        "</div>"
      ]
    },
    {
      "cell_type": "markdown",
      "id": "6c5fb09a-0311-44c2-b243-d0e80de78902",
      "metadata": {
        "id": "6c5fb09a-0311-44c2-b243-d0e80de78902"
      },
      "source": [
        "## Define Tools\n",
        "\n",
        "We will first define the tools we want to use. For this simple example, we will use a built-in search tool via Tavily. However, it is really easy to create your own tools - see documentation [here](https://python.langchain.com/docs/how_to/custom_tools) on how to do that."
      ]
    },
    {
      "cell_type": "code",
      "execution_count": 3,
      "id": "25b9ec62-0675-4715-811c-9b32c635b22f",
      "metadata": {
        "id": "25b9ec62-0675-4715-811c-9b32c635b22f"
      },
      "outputs": [],
      "source": [
        "from langchain_community.tools.tavily_search import TavilySearchResults\n",
        "\n",
        "tools = [TavilySearchResults(max_results=3)]"
      ]
    },
    {
      "cell_type": "markdown",
      "id": "3dcda478-fa80-4e3e-bb35-0f622fe73a31",
      "metadata": {
        "id": "3dcda478-fa80-4e3e-bb35-0f622fe73a31"
      },
      "source": [
        "## Define our Execution Agent\n",
        "\n",
        "Now we will create the execution agent we want to use to execute tasks.\n",
        "Note that for this example, we will be using the same execution agent for each task, but this doesn't HAVE to be the case."
      ]
    },
    {
      "cell_type": "code",
      "execution_count": 4,
      "id": "72d233ca-1dbf-4b43-b680-b3bf39e3691f",
      "metadata": {
        "colab": {
          "base_uri": "https://localhost:8080/"
        },
        "id": "72d233ca-1dbf-4b43-b680-b3bf39e3691f",
        "outputId": "87385f35-df2e-4bd8-b771-6c0bbf826ad6"
      },
      "outputs": [
        {
          "output_type": "stream",
          "name": "stderr",
          "text": [
            "/usr/local/lib/python3.11/dist-packages/langsmith/client.py:253: LangSmithMissingAPIKeyWarning: API key must be provided when using hosted LangSmith API\n",
            "  warnings.warn(\n"
          ]
        },
        {
          "output_type": "stream",
          "name": "stdout",
          "text": [
            "================================\u001b[1m System Message \u001b[0m================================\n",
            "\n",
            "You are a chatbot.\n",
            "\n",
            "=============================\u001b[1m Messages Placeholder \u001b[0m=============================\n",
            "\n",
            "\u001b[33;1m\u001b[1;3m{messages}\u001b[0m\n"
          ]
        }
      ],
      "source": [
        "from langchain import hub\n",
        "from langchain_openai import ChatOpenAI\n",
        "\n",
        "from langgraph.prebuilt import create_react_agent\n",
        "\n",
        "# Get the prompt to use - you can modify this!\n",
        "prompt = hub.pull(\"chets/ih-react-agent-executor\")\n",
        "prompt.pretty_print()\n",
        "\n",
        "# Choose the LLM that will drive the agent\n",
        "llm = ChatOpenAI(model=\"gpt-4-turbo-preview\")\n",
        "agent_executor = create_react_agent(llm, tools, state_modifier=prompt)"
      ]
    },
    {
      "cell_type": "code",
      "execution_count": 5,
      "id": "746e697a-dec4-4342-a814-9b3456828169",
      "metadata": {
        "colab": {
          "base_uri": "https://localhost:8080/"
        },
        "id": "746e697a-dec4-4342-a814-9b3456828169",
        "outputId": "f01828ba-a0a8-43e7-9bbd-74a51584733b"
      },
      "outputs": [
        {
          "output_type": "execute_result",
          "data": {
            "text/plain": [
              "{'messages': [HumanMessage(content='who is the winnner of the us open', additional_kwargs={}, response_metadata={}, id='f6893d3b-b61d-45ae-929b-67c5d623387a'),\n",
              "  AIMessage(content='', additional_kwargs={'tool_calls': [{'id': 'call_8NR6mT7RpBmaEWuFmi2BT6mG', 'function': {'arguments': '{\"query\":\"US Open 2023 winner\"}', 'name': 'tavily_search_results_json'}, 'type': 'function'}], 'refusal': None}, response_metadata={'token_usage': {'completion_tokens': 24, 'prompt_tokens': 97, 'total_tokens': 121, 'completion_tokens_details': {'accepted_prediction_tokens': 0, 'audio_tokens': 0, 'reasoning_tokens': 0, 'rejected_prediction_tokens': 0}, 'prompt_tokens_details': {'audio_tokens': 0, 'cached_tokens': 0}}, 'model_name': 'gpt-4-0125-preview', 'system_fingerprint': None, 'finish_reason': 'tool_calls', 'logprobs': None}, id='run-4907a046-b7be-4b16-afe0-0be328f0c03c-0', tool_calls=[{'name': 'tavily_search_results_json', 'args': {'query': 'US Open 2023 winner'}, 'id': 'call_8NR6mT7RpBmaEWuFmi2BT6mG', 'type': 'tool_call'}], usage_metadata={'input_tokens': 97, 'output_tokens': 24, 'total_tokens': 121, 'input_token_details': {'audio': 0, 'cache_read': 0}, 'output_token_details': {'audio': 0, 'reasoning': 0}}),\n",
              "  ToolMessage(content='[{\"url\": \"https://en.wikipedia.org/wiki/2023_US_Open_%E2%80%93_Men%27s_singles\", \"content\": \"Novak Djokovic defeated Daniil Medvedev in the final, 6–3, 7–6(7–5), 6–3 to win the men\\'s singles tennis title at the 2023 US Open. 7   7    Stefanos Tsitsipas 4,580   10  45  4,615   Second round lost to  Dominic Stricker [Q] 11  11   Karen Khachanov    2,845   720 10  2,135   First round lost to  Michael Mmoh [WC] 13  13   Alex de Minaur 2,595   90  180 2,685   Fourth round lost to  Daniil Medvedev [3] 18  18   Lorenzo Musetti    2,005   90  10  1,925   First round lost to  Titouan Droguet [Q] 20  20   Francisco Cerúndolo    1,600   10  45  1,635   Second round lost to  Jiří Veselý [PR] 28  30   Christopher Eubanks    1,338   70  45  1,313   Second round lost to  Benjamin Bonzi [WC]\"}, {\"url\": \"https://www.usopen.org/en_US/news/articles/2023-09-10/novak_djokovic_wins_24th_grand_slam_singles_title_at_2023_us_open.html\", \"content\": \"Novak Djokovic wins 24th Grand Slam singles title at 2023 US Open - Official Site of the 2024 US Open Tennis Championships - A USTA Event Novak Djokovic wins 24th Grand Slam singles title at 2023 US Open WHAT HAPPENED:\\xa0Novak Djokovic\\xa0handled the weight of history to defeat\\xa0Daniil Medvedev\\xa0on Sunday in the 2023 US Open men\\'s singles final. Following his\\xa0victory in his record 36th major singles final, Djokovic is now the first man to win three Grand Slams singles titles in a season four times (2011, 2015, 2021, 2023). MATCH POINT:\\xa0Now 10-5 in his head-to-head against Medvedev, Djokovic\\xa0earned a measure of US Open revenge two years after Medvedev\\xa0denied him\\xa0a Grand Slam at the\\xa0last hurdle in the 2021 New York final.\"}, {\"url\": \"https://www.youtube.com/watch?v=ToOaMWnlAQk\", \"content\": \"The moment Novak Djokovic beat Daniil Medvedev in the final of the 2023 US Open. #Shorts Don\\'t miss a moment of the US Open!\"}]', name='tavily_search_results_json', id='b760880f-c9ed-440e-8568-c4bc7cc208c2', tool_call_id='call_8NR6mT7RpBmaEWuFmi2BT6mG', artifact={'query': 'US Open 2023 winner', 'follow_up_questions': None, 'answer': None, 'images': [], 'results': [{'url': 'https://en.wikipedia.org/wiki/2023_US_Open_%E2%80%93_Men%27s_singles', 'title': \"2023 US Open – Men's singles - Wikipedia\", 'content': \"Novak Djokovic defeated Daniil Medvedev in the final, 6–3, 7–6(7–5), 6–3 to win the men's singles tennis title at the 2023 US Open. 7   7    Stefanos Tsitsipas 4,580   10  45  4,615   Second round lost to  Dominic Stricker [Q] 11  11   Karen Khachanov    2,845   720 10  2,135   First round lost to  Michael Mmoh [WC] 13  13   Alex de Minaur 2,595   90  180 2,685   Fourth round lost to  Daniil Medvedev [3] 18  18   Lorenzo Musetti    2,005   90  10  1,925   First round lost to  Titouan Droguet [Q] 20  20   Francisco Cerúndolo    1,600   10  45  1,635   Second round lost to  Jiří Veselý [PR] 28  30   Christopher Eubanks    1,338   70  45  1,313   Second round lost to  Benjamin Bonzi [WC]\", 'score': 0.90227455, 'raw_content': None}, {'url': 'https://www.usopen.org/en_US/news/articles/2023-09-10/novak_djokovic_wins_24th_grand_slam_singles_title_at_2023_us_open.html', 'title': 'Novak Djokovic wins 24th Grand Slam singles title at 2023 US Open', 'content': \"Novak Djokovic wins 24th Grand Slam singles title at 2023 US Open - Official Site of the 2024 US Open Tennis Championships - A USTA Event Novak Djokovic wins 24th Grand Slam singles title at 2023 US Open WHAT HAPPENED:\\xa0Novak Djokovic\\xa0handled the weight of history to defeat\\xa0Daniil Medvedev\\xa0on Sunday in the 2023 US Open men's singles final. Following his\\xa0victory in his record 36th major singles final, Djokovic is now the first man to win three Grand Slams singles titles in a season four times (2011, 2015, 2021, 2023). MATCH POINT:\\xa0Now 10-5 in his head-to-head against Medvedev, Djokovic\\xa0earned a measure of US Open revenge two years after Medvedev\\xa0denied him\\xa0a Grand Slam at the\\xa0last hurdle in the 2021 New York final.\", 'score': 0.826278, 'raw_content': None}, {'url': 'https://www.youtube.com/watch?v=ToOaMWnlAQk', 'title': 'NOVAK DJOKOVIC WINS THE US OPEN - YouTube', 'content': \"The moment Novak Djokovic beat Daniil Medvedev in the final of the 2023 US Open. #Shorts Don't miss a moment of the US Open!\", 'score': 0.7746691, 'raw_content': None}], 'response_time': 1.37}),\n",
              "  AIMessage(content=\"Novak Djokovic won the men's singles tennis title at the 2023 US Open by defeating Daniil Medvedev in the final with a score of 6–3, 7–6(7–5), 6–3. This victory marked his 24th Grand Slam singles title.\", additional_kwargs={'refusal': None}, response_metadata={'token_usage': {'completion_tokens': 66, 'prompt_tokens': 774, 'total_tokens': 840, 'completion_tokens_details': {'accepted_prediction_tokens': 0, 'audio_tokens': 0, 'reasoning_tokens': 0, 'rejected_prediction_tokens': 0}, 'prompt_tokens_details': {'audio_tokens': 0, 'cached_tokens': 0}}, 'model_name': 'gpt-4-0125-preview', 'system_fingerprint': None, 'finish_reason': 'stop', 'logprobs': None}, id='run-53c7d0b0-60b2-437c-a91d-0c1178aeaa84-0', usage_metadata={'input_tokens': 774, 'output_tokens': 66, 'total_tokens': 840, 'input_token_details': {'audio': 0, 'cache_read': 0}, 'output_token_details': {'audio': 0, 'reasoning': 0}})]}"
            ]
          },
          "metadata": {},
          "execution_count": 5
        }
      ],
      "source": [
        "agent_executor.invoke({\"messages\": [(\"user\", \"who is the winnner of the us open\")]})"
      ]
    },
    {
      "cell_type": "markdown",
      "id": "5cf66804-44b2-4904-b1a7-17ad70b551f5",
      "metadata": {
        "id": "5cf66804-44b2-4904-b1a7-17ad70b551f5"
      },
      "source": [
        "## Define the State\n",
        "\n",
        "Let's now start by defining the state the track for this agent.\n",
        "\n",
        "First, we will need to track the current plan. Let's represent that as a list of strings.\n",
        "\n",
        "Next, we should track previously executed steps. Let's represent that as a list of tuples (these tuples will contain the step and then the result)\n",
        "\n",
        "Finally, we need to have some state to represent the final response as well as the original input."
      ]
    },
    {
      "cell_type": "code",
      "execution_count": 6,
      "id": "8eeeaeea-8f10-4fbe-8e24-4e1a2381a009",
      "metadata": {
        "id": "8eeeaeea-8f10-4fbe-8e24-4e1a2381a009"
      },
      "outputs": [],
      "source": [
        "import operator\n",
        "from typing import Annotated, List, Tuple\n",
        "from typing_extensions import TypedDict\n",
        "\n",
        "\n",
        "class PlanExecute(TypedDict):\n",
        "    input: str\n",
        "    plan: List[str]\n",
        "    past_steps: Annotated[List[Tuple], operator.add]\n",
        "    response: str"
      ]
    },
    {
      "cell_type": "markdown",
      "id": "1dbd770a-9941-40a9-977e-4d55359eee21",
      "metadata": {
        "id": "1dbd770a-9941-40a9-977e-4d55359eee21"
      },
      "source": [
        "## Planning Step\n",
        "\n",
        "Let's now think about creating the planning step. This will use function calling to create a plan."
      ]
    },
    {
      "cell_type": "markdown",
      "id": "e12494fa-c6a2-4cfa-ae58-f72961437843",
      "metadata": {
        "id": "e12494fa-c6a2-4cfa-ae58-f72961437843"
      },
      "source": [
        "<div class=\"admonition note\">\n",
        "    <p class=\"admonition-title\">Using Pydantic with LangChain</p>\n",
        "    <p>\n",
        "        This notebook uses Pydantic v2 <code>BaseModel</code>, which requires <code>langchain-core >= 0.3</code>. Using <code>langchain-core < 0.3</code> will result in errors due to mixing of Pydantic v1 and v2 <code>BaseModels</code>.\n",
        "    </p>\n",
        "</div>"
      ]
    },
    {
      "cell_type": "code",
      "execution_count": 7,
      "id": "4a88626d-6dfd-4488-87f0-a9a0dd6da44c",
      "metadata": {
        "id": "4a88626d-6dfd-4488-87f0-a9a0dd6da44c"
      },
      "outputs": [],
      "source": [
        "from pydantic import BaseModel, Field\n",
        "\n",
        "\n",
        "class Plan(BaseModel):\n",
        "    \"\"\"Plan to follow in future\"\"\"\n",
        "\n",
        "    steps: List[str] = Field(\n",
        "        description=\"different steps to follow, should be in sorted order\"\n",
        "    )"
      ]
    },
    {
      "cell_type": "code",
      "execution_count": 8,
      "id": "ec7b1867-1ea3-4df3-9a98-992a1c32ec49",
      "metadata": {
        "id": "ec7b1867-1ea3-4df3-9a98-992a1c32ec49"
      },
      "outputs": [],
      "source": [
        "from langchain_core.prompts import ChatPromptTemplate\n",
        "\n",
        "planner_prompt = ChatPromptTemplate.from_messages(\n",
        "    [\n",
        "        (\n",
        "            \"system\",\n",
        "            \"\"\"For the given objective, come up with a simple step by step plan. \\\n",
        "This plan should involve individual tasks, that if executed correctly will yield the correct answer. Do not add any superfluous steps. \\\n",
        "The result of the final step should be the final answer. Make sure that each step has all the information needed - do not skip steps.\"\"\",\n",
        "        ),\n",
        "        (\"placeholder\", \"{messages}\"),\n",
        "    ]\n",
        ")\n",
        "planner = planner_prompt | ChatOpenAI(\n",
        "    model=\"gpt-4o\", temperature=0\n",
        ").with_structured_output(Plan)"
      ]
    },
    {
      "cell_type": "code",
      "execution_count": 9,
      "id": "67ce37b7-e089-479b-bcb8-c3f5d9874613",
      "metadata": {
        "colab": {
          "base_uri": "https://localhost:8080/"
        },
        "id": "67ce37b7-e089-479b-bcb8-c3f5d9874613",
        "outputId": "4a427494-fd52-458d-c12a-1eb8d7ec6dee"
      },
      "outputs": [
        {
          "output_type": "execute_result",
          "data": {
            "text/plain": [
              "Plan(steps=['Identify the current year to determine the most recent Australian Open winner.', 'Research the winner of the Australian Open for the current year.', 'Find the hometown of the identified winner from the Australian Open.'])"
            ]
          },
          "metadata": {},
          "execution_count": 9
        }
      ],
      "source": [
        "planner.invoke(\n",
        "    {\n",
        "        \"messages\": [\n",
        "            (\"user\", \"what is the hometown of the current Australia open winner?\")\n",
        "        ]\n",
        "    }\n",
        ")"
      ]
    },
    {
      "cell_type": "markdown",
      "id": "6e09ad9d-6f90-4bdc-bb43-b1ce94517c29",
      "metadata": {
        "id": "6e09ad9d-6f90-4bdc-bb43-b1ce94517c29"
      },
      "source": [
        "## Re-Plan Step\n",
        "\n",
        "Now, let's create a step that re-does the plan based on the result of the previous step."
      ]
    },
    {
      "cell_type": "code",
      "execution_count": 10,
      "id": "ec2d12cc-016a-44d1-aa08-4c5ce1e8fe2a",
      "metadata": {
        "id": "ec2d12cc-016a-44d1-aa08-4c5ce1e8fe2a"
      },
      "outputs": [],
      "source": [
        "from typing import Union\n",
        "\n",
        "\n",
        "class Response(BaseModel):\n",
        "    \"\"\"Response to user.\"\"\"\n",
        "\n",
        "    response: str\n",
        "\n",
        "\n",
        "class Act(BaseModel):\n",
        "    \"\"\"Action to perform.\"\"\"\n",
        "\n",
        "    action: Union[Response, Plan] = Field(\n",
        "        description=\"Action to perform. If you want to respond to user, use Response. \"\n",
        "        \"If you need to further use tools to get the answer, use Plan.\"\n",
        "    )\n",
        "\n",
        "\n",
        "replanner_prompt = ChatPromptTemplate.from_template(\n",
        "    \"\"\"For the given objective, come up with a simple step by step plan. \\\n",
        "This plan should involve individual tasks, that if executed correctly will yield the correct answer. Do not add any superfluous steps. \\\n",
        "The result of the final step should be the final answer. Make sure that each step has all the information needed - do not skip steps.\n",
        "\n",
        "Your objective was this:\n",
        "{input}\n",
        "\n",
        "Your original plan was this:\n",
        "{plan}\n",
        "\n",
        "You have currently done the follow steps:\n",
        "{past_steps}\n",
        "\n",
        "Update your plan accordingly. If no more steps are needed and you can return to the user, then respond with that. Otherwise, fill out the plan. Only add steps to the plan that still NEED to be done. Do not return previously done steps as part of the plan.\"\"\"\n",
        ")\n",
        "\n",
        "\n",
        "replanner = replanner_prompt | ChatOpenAI(\n",
        "    model=\"gpt-4o\", temperature=0\n",
        ").with_structured_output(Act)"
      ]
    },
    {
      "cell_type": "markdown",
      "id": "859abd13-6ba0-45ad-b341-e652dd5f755b",
      "metadata": {
        "id": "859abd13-6ba0-45ad-b341-e652dd5f755b"
      },
      "source": [
        "## Create the Graph\n",
        "\n",
        "We can now create the graph!"
      ]
    },
    {
      "cell_type": "code",
      "execution_count": 11,
      "id": "6c8e0dad-bcea-4c9a-8922-0d820892e2d0",
      "metadata": {
        "id": "6c8e0dad-bcea-4c9a-8922-0d820892e2d0"
      },
      "outputs": [],
      "source": [
        "from typing import Literal\n",
        "from langgraph.graph import END\n",
        "\n",
        "\n",
        "async def execute_step(state: PlanExecute):\n",
        "    plan = state[\"plan\"]\n",
        "    plan_str = \"\\n\".join(f\"{i+1}. {step}\" for i, step in enumerate(plan))\n",
        "    task = plan[0]\n",
        "    task_formatted = f\"\"\"For the following plan:\n",
        "{plan_str}\\n\\nYou are tasked with executing step {1}, {task}.\"\"\"\n",
        "    agent_response = await agent_executor.ainvoke(\n",
        "        {\"messages\": [(\"user\", task_formatted)]}\n",
        "    )\n",
        "    return {\n",
        "        \"past_steps\": [(task, agent_response[\"messages\"][-1].content)],\n",
        "    }\n",
        "\n",
        "\n",
        "async def plan_step(state: PlanExecute):\n",
        "    plan = await planner.ainvoke({\"messages\": [(\"user\", state[\"input\"])]})\n",
        "    return {\"plan\": plan.steps}\n",
        "\n",
        "\n",
        "async def replan_step(state: PlanExecute):\n",
        "    output = await replanner.ainvoke(state)\n",
        "    if isinstance(output.action, Response):\n",
        "        return {\"response\": output.action.response}\n",
        "    else:\n",
        "        return {\"plan\": output.action.steps}\n",
        "\n",
        "\n",
        "def should_end(state: PlanExecute):\n",
        "    if \"response\" in state and state[\"response\"]:\n",
        "        return END\n",
        "    else:\n",
        "        return \"agent\""
      ]
    },
    {
      "cell_type": "code",
      "execution_count": 12,
      "id": "e954cea0-5ccc-46c2-a27b-f5b7185b597d",
      "metadata": {
        "id": "e954cea0-5ccc-46c2-a27b-f5b7185b597d"
      },
      "outputs": [],
      "source": [
        "from langgraph.graph import StateGraph, START\n",
        "\n",
        "workflow = StateGraph(PlanExecute)\n",
        "\n",
        "# Add the plan node\n",
        "workflow.add_node(\"planner\", plan_step)\n",
        "\n",
        "# Add the execution step\n",
        "workflow.add_node(\"agent\", execute_step)\n",
        "\n",
        "# Add a replan node\n",
        "workflow.add_node(\"replan\", replan_step)\n",
        "\n",
        "workflow.add_edge(START, \"planner\")\n",
        "\n",
        "# From plan we go to agent\n",
        "workflow.add_edge(\"planner\", \"agent\")\n",
        "\n",
        "# From agent, we replan\n",
        "workflow.add_edge(\"agent\", \"replan\")\n",
        "\n",
        "workflow.add_conditional_edges(\n",
        "    \"replan\",\n",
        "    # Next, we pass in the function that will determine which node is called next.\n",
        "    should_end,\n",
        "    [\"agent\", END],\n",
        ")\n",
        "\n",
        "# Finally, we compile it!\n",
        "# This compiles it into a LangChain Runnable,\n",
        "# meaning you can use it as you would any other runnable\n",
        "app = workflow.compile()"
      ]
    },
    {
      "cell_type": "code",
      "execution_count": 13,
      "id": "7363e528",
      "metadata": {
        "colab": {
          "base_uri": "https://localhost:8080/",
          "height": 697
        },
        "id": "7363e528",
        "outputId": "676181b6-8863-4891-a0e7-e53d8d20abc7"
      },
      "outputs": [
        {
          "output_type": "display_data",
          "data": {
            "image/png": "[encoded data removed]",
            "text/plain": [
              "<IPython.core.display.Image object>"
            ]
          },
          "metadata": {}
        }
      ],
      "source": [
        "from IPython.display import Image, display\n",
        "\n",
        "display(Image(app.get_graph(xray=True).draw_mermaid_png()))"
      ]
    },
    {
      "cell_type": "code",
      "execution_count": 14,
      "id": "b8ac1f67-e87a-427c-b4f7-44351295b788",
      "metadata": {
        "colab": {
          "base_uri": "https://localhost:8080/"
        },
        "id": "b8ac1f67-e87a-427c-b4f7-44351295b788",
        "outputId": "92006210-cd70-461d-f5ef-a0339e849206"
      },
      "outputs": [
        {
          "output_type": "stream",
          "name": "stdout",
          "text": [
            "planner {'plan': ['Collect financial data for Toast from 2023 to 2024, including Revenue, ARR, Growth, Gross Margin, Net Margin, Operating Margin, and EBITDA.', 'Collect financial data for Marqueta from 2023 to 2024, including Revenue, ARR, Growth, Gross Margin, Net Margin, Operating Margin, and EBITDA.', 'Gather forward guidance data for Toast for each quarter from 2023 to 2024 and compare it to the actuals reported.', 'Gather forward guidance data for Marqueta for each quarter from 2023 to 2024 and compare it to the actuals reported.', 'Create a spreadsheet with separate sections for Toast and Marqueta, listing all the financial metrics and forward guidance comparisons.', \"Analyze the data to identify trends, strengths, and weaknesses in Toast's financial and margin metrics compared to Marqueta.\", 'Summarize the findings in a detailed report, highlighting areas where Toast is ready for IPO and areas that need improvement.', 'Ensure the report includes visual aids like charts or graphs to illustrate key comparisons and trends.', 'Review the report for accuracy and completeness before finalizing.']}\n",
            "agent {'past_steps': [('Collect financial data for Toast from 2023 to 2024, including Revenue, ARR, Growth, Gross Margin, Net Margin, Operating Margin, and EBITDA.', 'For Toast, from 2023 to 2024, the relevant financial data includes:\\n\\n- **Annual Recurring Revenue (ARR)**: Increased by 34% to over $1.6 billion as of December 31, 2024.\\n- **Revenue**: In the fourth quarter of CY2024, Toast reported revenue of $1.34 billion, which was a year-on-year growth of 29.2%. This was above analyst estimates of $1.32 billion, marking a 1.5% beat.\\n- **Net Income**: For Q4 2024, Toast reported a net income of $33 million.\\n- **Adjusted EBITDA**: For the same period, Adjusted EBITDA was reported at $111 million.\\n- **Growth Metrics**: Added a record 28,000 net locations in 2024, ending the year with approximately 134,000 locations, indicating substantial growth in their operational scale.\\n\\nHowever, the data concerning Gross Margin, Net Margin, and Operating Margin was not directly provided in the available sources. Further detailed financial reporting from Toast might need to be consulted for those specific metrics.')]}\n",
            "replan {'plan': ['Collect financial data for Marqueta from 2023 to 2024, including Revenue, ARR, Growth, Gross Margin, Net Margin, Operating Margin, and EBITDA.', 'Gather forward guidance data for Toast for each quarter from 2023 to 2024 and compare it to the actuals reported.', 'Gather forward guidance data for Marqueta for each quarter from 2023 to 2024 and compare it to the actuals reported.', 'Create a spreadsheet with separate sections for Toast and Marqueta, listing all the financial metrics and forward guidance comparisons.', \"Analyze the data to identify trends, strengths, and weaknesses in Toast's financial and margin metrics compared to Marqueta.\", 'Summarize the findings in a detailed report, highlighting areas where Toast is ready for IPO and areas that need improvement.', 'Ensure the report includes visual aids like charts or graphs to illustrate key comparisons and trends.', 'Review the report for accuracy and completeness before finalizing.']}\n",
            "agent {'past_steps': [('Collect financial data for Marqueta from 2023 to 2024, including Revenue, ARR, Growth, Gross Margin, Net Margin, Operating Margin, and EBITDA.', \"After conducting research on Marqeta's financial data for the years 2023 to 2024, here's what I found:\\n\\n### Marqeta Reports Third Quarter 2024 Financial Results:\\n- **Key Developments**: The report mentions significant new product announcements which aim to enhance Marqeta's platform by offering transformative payment solutions. A notable achievement was the successful migration of millions of Klarna cards in Europe onto Marqeta's platform.\\n- **Growth and Innovation**: Marqeta introduced a Portfolio Migration service to reduce the complexity for customers wishing to upgrade their existing card programs onto the Marqeta platform, ensuring no impact on the existing cardholder experience. The UX Toolkit was also introduced as a new addition to Marqeta's card program management tools.\\n  \\nHowever, the detailed financial metrics such as Revenue, ARR, Growth, Gross Margin, Net Margin, Operating Margin, and EBITDA were not explicitly detailed in the provided snippets.\\n\\n### Gross Profit Increase in 2023:\\n- **Gross Profit Growth**: Marqeta reported a 24% year-over-year increase in Gross Profit, which rose to $90 million in the third quarter of 2024, up from $73 million in the same quarter in 2023. This increase was primarily attributed to TPV (Total Payment Volume) growth.\\n\\nFor a more detailed and comprehensive analysis of Marqeta's financial health from 2023 to 2024, specifically covering Revenue, ARR, Growth, Gross Margin, Net Margin, Operating Margin, and EBITDA, access to full annual and quarterly financial reports or investor relations publications is advisable. These documents usually offer an in-depth view of a company's financial trajectories and are accessible via the company's investor relations page or financial databases.\")]}\n",
            "replan {'plan': ['Gather forward guidance data for Toast for each quarter from 2023 to 2024 and compare it to the actuals reported.', 'Gather forward guidance data for Marqueta for each quarter from 2023 to 2024 and compare it to the actuals reported.', 'Create a spreadsheet with separate sections for Toast and Marqueta, listing all the financial metrics and forward guidance comparisons.', \"Analyze the data to identify trends, strengths, and weaknesses in Toast's financial and margin metrics compared to Marqueta.\", 'Summarize the findings in a detailed report, highlighting areas where Toast is ready for IPO and areas that need improvement.', 'Ensure the report includes visual aids like charts or graphs to illustrate key comparisons and trends.', 'Review the report for accuracy and completeness before finalizing.']}\n",
            "agent {'past_steps': [('Gather forward guidance data for Toast for each quarter from 2023 to 2024 and compare it to the actuals reported.', \"Gathering forward guidance data for Toast for each quarter from 2023 to 2024 and comparing it to the actuals reported involves a detailed examination of their financial performance and forward-looking statements. Here's a summary of Toast's performance over the specified period:\\n\\n### Q1 2023\\n- **Actuals Reported:** Gross profit of $174 million, up 96% year-over-year. Non-GAAP gross profit grew 87% year-over-year to $189 million. Net loss was $(81) million compared to net loss of $(23) million in Q1 2022.\\n- **Forward Guidance:** Raised full-year revenue guidance by 4% at the midpoint, implying 37% year-over-year growth.\\n\\n### Q2 2023\\n- **Actuals Reported:** ARR as of June 30, 2023, was $1.1 billion, up 45% year-over-year. Gross Payment Volume (GPV) increased 38% year-over-year to $32.1 billion.\\n- **Forward Guidance:** Expected financial improvements and mentioned a strategic agreement with Marriott International expected to impact business positively.\\n\\n### Q3 2023\\n- **Actuals Reported:** ARR grew 40% to over $1.2 billion. Revenue rose to $1.305 billion, a 26.5% increase from $1.032 billion in Q3 2023. GPV increased 34% year-over-year to $33.7 billion.\\n- **Forward Guidance:** Expected revenue growth of 41% at the midpoint of their guidance. Adjusted EBITDA anticipated in the range of $38 million.\\n\\n### Q4 2023\\n- **Actuals Reported:** Non-GAAP subscription services and financial technology solutions gross profit in the range of $370 million to $380 million.\\n- **Forward Guidance:** Net income improved to $33 million from a loss of $36 million in Q4 2023, suggesting strategic expansions and enhancements for profitability.\\n\\n### Q1 2024\\n- **Actuals Reported:** Revenue reported at $1,075 million, surpassing the estimated $1,041.47 million.\\n- **Forward Guidance:** Adjusted EBITDA in the range of $100 million to $110 million for Q1 2024, with full-year expectations clarified later.\\n\\n### Q2 2024\\n- **Actuals Reported:** GAAP net income was $14 million in Q2 2024, a significant improvement from a net loss of $(98) million in Q2 2023. ARR as of June 30, 2024, was $1.5 billion, up 29% year-over-year.\\n- **Forward Guidance:** Strong financial results with 29% ARR growth and net income, indicating a positive trajectory.\\n\\n### Q3 2024\\n- **Actuals Reported:** GAAP income from operations was $34 million in Q3 2024 compared to a GAAP loss from operations of $(59) million in Q3 2023. GAAP net income was $56 million.\\n- **Forward Guidance:** Forward-looking statements focused on future profitability and margin outlook, emphasizing expected financial and operational performance enhancements.\\n\\n### Q4 2024\\n- **Actuals Reported:** Adjusted EBITDA was $111 million in Q4 2024 compared to $29 million in Q4 2023, reflecting significant improvement and achieving GAAP profitability for the first time.\\n- **Forward Guidance:** Full-year adjusted EBITDA guidance of $510 million to $530 million, aiming for a 30% margin at the midpoint.\\n\\nThis summary indicates a steady upward trajectory in Toast's financial performance over the two-year period, with considerable growth in ARR, GPV, and significant improvements in profitability metrics. The forward guidance generally leans towards optimistic growth strategies and financial health improvements.\\n\\nFor a comprehensive analysis and visualization, it would be ideal to compare these metrics in a spreadsheet or chart format, highlighting trends, and pinpointing exact quarters where forward guidance and actuals converged or diverged.\")]}\n",
            "replan {'plan': ['Gather forward guidance data for Marqueta for each quarter from 2023 to 2024 and compare it to the actuals reported.', 'Create a spreadsheet with separate sections for Toast and Marqueta, listing all the financial metrics and forward guidance comparisons.', \"Analyze the data to identify trends, strengths, and weaknesses in Toast's financial and margin metrics compared to Marqueta.\", 'Summarize the findings in a detailed report, highlighting areas where Toast is ready for IPO and areas that need improvement.', 'Ensure the report includes visual aids like charts or graphs to illustrate key comparisons and trends.', 'Review the report for accuracy and completeness before finalizing.']}\n",
            "agent {'past_steps': [('Gather forward guidance data for Marqueta for each quarter from 2023 to 2024 and compare it to the actuals reported.', \"### Marqeta Forward Guidance and Actuals for 2023\\n\\nBelow is the compilation of forward guidance data for Marqeta for each quarter of 2023 and the comparisons to the actuals reported:\\n\\n**Forward Guidance for 2023:**\\n- **Q1 2023 Net Revenue Growth:** 26%-28%\\n- **Q1 2023 Gross Profit Growth:** 14%-16% \\n  - Source: [Fintech Nexus](https://www.fintechnexus.com/marqeta-sets-sights-on-embedded-finance-in-2023/), [SEC Filings](https://www.sec.gov/Archives/edgar/data/1522540/000152254023000014/mqearningsrelease-q42022.htm)\\n\\n**Marqeta's Actual Financial Results for 2023:**\\n- **Full Year 2023 Net Revenue:** $676 million\\n- **Full Year 2023 Gross Profit:** $330 million, representing a decrease from the previous year.\\n  - Source: [Marqeta Investors](https://investors.marqeta.com/news-releases/news-release-details/marqeta-reports-fourth-quarter-and-full-year-2023-financial)\\n\\n- **Q3 2023 Gross Profit Increase:** 24% year-over-year to $90 million from $73 million, primarily due to TPV (Total Payment Volume) growth.\\n  - Source: [Marqeta Investors](https://investors.marqeta.com/static-files/b27b299a-25b7-4579-a298-50afab1b2853)\\n\\n**Additional Notes:**\\n- Marqeta processed over $200 billion in annual payments volume (TPV) in 2023.\\n- Source: [Stock Titan](https://www.stocktitan.net/news/MQ/marqeta-to-announce-fourth-quarter-and-full-year-2024-results-on-44u2sn77lpjx.html)\\n\\n**Comparison:**\\n- The actual gross profit increase in Q3 2023 aligns closely with the initial guidance for growth, showcasing an effective realization of projected growth in revenue and gross profit margins.\\n- The reported decrease in annual gross profit, despite the increase in TPV and Q3 gross profit, signals a potential disparity in either operational costs or other financial metrics not covered in the forward guidance.\\n- To gain a complete understanding of Marqeta's financial performance compared against its forward guidance for each quarter within 2023, more detailed quarter-by-quarter actuals vs. guidance comparison is required, emphasizing operational efficiency, expense management, and revenue growth factors. \\n\\nFor a comprehensive analysis, reviewing the full-year report alongside quarterly filings will be crucial to discern the specifics of where and how the forward guidance aligned or deviated from actual results, especially in areas such as operational expenses and net income.\")]}\n",
            "replan {'plan': ['Create a spreadsheet with separate sections for Toast and Marqueta, listing all the financial metrics and forward guidance comparisons.', \"Analyze the data to identify trends, strengths, and weaknesses in Toast's financial and margin metrics compared to Marqueta.\", 'Summarize the findings in a detailed report, highlighting areas where Toast is ready for IPO and areas that need improvement.', 'Ensure the report includes visual aids like charts or graphs to illustrate key comparisons and trends.', 'Review the report for accuracy and completeness before finalizing.']}\n",
            "agent {'past_steps': [('Create a spreadsheet with separate sections for Toast and Marqueta, listing all the financial metrics and forward guidance comparisons.', 'To create a spreadsheet with separate sections for Toast and Marqueta, listing all the financial metrics and forward guidance comparisons based on the provided information, we can start by summarizing the key data for both companies in 2023.\\n\\n### Toast Financial Metrics and Forward Guidance (2023)\\n\\n1. **Q4 FY23 Achievements**:\\n   - Provided a range of forward-looking statements covering product performance, market strategy, customer acquisition, and sales strategies.\\n   - Mentioned the potential impact of various external factors such as inflation, capital market disruptions, and global events on business and industry.\\n   - Highlighted the risks associated with executing business and growth strategy, maintaining platform security and availability, and compliance with new or modified laws and regulations.\\n   - Non-GAAP subscription services and financial technology solutions gross profit expected in the range of $370 million to $380 million (32-35% growth compared to Q4 2023).\\n\\n#### References\\n- Investor presentation Q4FY23: [Link](https://s28.q4cdn.com/141746709/files/doc_financials/2023/q4/TOAST-Investor-Presentation-Q4FY23-1.pdf)\\n- Q4 FY2023 Financial Results: [Link](https://pos.toasttab.com/news/toast-q4-fy2023-financial-results?srsltid=AfmBOorQpuO-huug5pboM1cHpZCTrtYkQxbSEmiEiH3VlckHuQYQRNFo)\\n- Quarterly Results: [Link](https://investors.toasttab.com/financials/quarterly-results/default.aspx)\\n\\n### Marqueta Financial Metrics and Forward Guidance (2023)\\n\\n1. **Full 2023 Fiscal Year**:\\n   - Reported net revenue of $676 million.\\n   - Reported gross profit of $330 million, indicating an annual decrease.\\n   - A significant increase in Gross Profit by 24% year-over-year to $90 million from $73 million in the third quarter of 2023, primarily due to TPV growth.\\n\\n#### References\\n- 2023 Fiscal Year Report: [Link](https://investors.marqeta.com/node/9041/pdf)\\n- Fourth Quarter and Full Year 2023 Financial Results: [Link](https://investors.marqeta.com/news-releases/news-release-details/marqeta-reports-fourth-quarter-and-full-year-2023-financial)\\n- Financial Details Document: [Link](https://investors.marqeta.com/static-files/b27b299a-25b7-4579-a298-50afab1b2853)\\n\\n### Spreadsheet Layout\\n\\nTo compile this information into a spreadsheet, you can use the following structure:\\n\\n1. **Company Name**: Toast / Marqueta (Separate sections for each)\\n2. **Metric/Detail**:\\n   - Financial Year: 2023\\n   - Net Revenue (if applicable)\\n   - Gross Profit\\n   - Growth Rates / Year-over-Year Changes\\n   - Forward Guidance Highlights\\n   - External factors & Risks\\n3. **Comments/Notes**:\\n   - Notable achievements, strategic moves, or pointed risks.\\n4. **References**:\\n   - Hyperlinked sources for further details.\\n\\n### Creating Visual Aids\\n\\nFor visual aids:\\n- Construct graphs to compare gross profit growth, net revenue, and other relevant metrics between Toast and Marqueta.\\n- Bar charts can be effective for year-over-year comparisons within each company.\\n- Use a timeline or line graph to represent growth rates, predicting forward guidance effectiveness visually.\\n\\nThis structured approach allows for direct, comparable analysis between Toast and Marqueta, providing a clear foundational basis for further in-depth analysis in subsequent steps.')]}\n",
            "replan {'plan': [\"Analyze the compiled financial data and forward guidance comparisons for both Toast and Marqueta to identify trends, strengths, and weaknesses in Toast's financial and margin metrics compared to Marqueta.\", 'Summarize the findings in a detailed report, highlighting areas where Toast is ready for IPO and areas that need improvement.', 'Ensure the report includes visual aids like charts or graphs to illustrate key comparisons and trends.', 'Review the report for accuracy and completeness before finalizing.']}\n",
            "agent {'past_steps': [(\"Analyze the compiled financial data and forward guidance comparisons for both Toast and Marqueta to identify trends, strengths, and weaknesses in Toast's financial and margin metrics compared to Marqueta.\", \"To analyze the compiled financial data and forward guidance comparisons for both Toast and Marqueta for 2023, we draw from the available information to identify trends, strengths, and weaknesses in Toast's financial and margin metrics compared to Marqueta. \\n\\n### Toast Financial Overview:\\n- **Growth Strategy Execution:** Toast has emphasized its ability to successfully execute its business and growth strategy, focusing on attracting new customers, retaining and increasing sales from existing customers through effective marketing and sales strategies.\\n- **Platform Impact:** The expected impact of Toast’s platform, products, and packaging strategy is significant, catering specifically to the restaurant industry with an all-in-one digital technology approach.\\n- **Financial Performance Guidance:** Toast provided a non-GAAP subscription services and financial technology solutions gross profit in the range of $370 million to $380 million, indicating a growth rate of 32-35% compared to Q4 2023.\\n- **Risks and Challenges:** The company outlined several risks, including the ability to maintain platform security and availability, the competitive environment, compliance with laws and regulations, and potential global financial, economic, and health event impacts.\\n\\n### Marqueta Financial Overview:\\n- **Revenue and Gross Profit:** For the 2023 fiscal year, Marqeta reported net revenue of $676 million and a gross profit of $330 million, showing a decrease from the previous year.\\n- **Quarterly Performance:** In Q4 2023, Marqueta reported a GAAP net loss of $40 million but an Adjusted EBITDA income of $3 million.\\n\\n### Comparative Analysis:\\n- **Revenue Growth:** Toast has shown a strong focus on growth through its business strategy, technological platform, and product offerings in a competitive market. Although Marqueta also reports significant revenue, it has experienced a decrease in the fiscal year 2023.\\n- **Profitability and Margins:** Toast's guidance indicates a confident growth trajectory in its gross profit for financial technology solutions. In contrast, Marqueta faced a net loss in Q4 2023 but managed a slight positive Adjusted EBITDA, signaling challenges in achieving profitability.\\n- **Risk Factors:** Both companies emphasize the importance of adapting to risks such as regulatory changes, competitive pressures, and global economic conditions. However, Toast’s specialized focus on the restaurant sector may present both unique opportunities and vulnerabilities compared to Marqueta’s broader payment solutions approach.\\n\\n### Strengths and Weaknesses:\\n- **Toast Strengths:** Strong growth strategy, specialized platform for the restaurant industry, and positive growth guidance.\\n- **Toast Weaknesses:** Potential vulnerabilities due to industry focus and external economic factors.\\n- **Marqueta Strengths:** Established revenue base and ability to achieve positive Adjusted EBITDA despite a net loss.\\n- **Marqueta Weaknesses:** Year-over-year decrease in revenue and profitability challenges.\\n\\nIn conclusion, Toast demonstrates a robust growth outlook with its focused strategy and technological edge in the restaurant industry. However, it needs to navigate potential industry-specific risks and external economic challenges. Marqueta, while showing resilience with positive EBITDA amidst a net loss, faces pressures to reverse the downward revenue trend and improve profitability. Potential improvement areas for Toast before considering an IPO would likely involve enhancing financial profitability, solidifying its competitive position, and mitigating industry-specific risks.\")]}\n",
            "replan {'plan': [\"Create a detailed report summarizing the analysis of Toast's IPO readiness compared to Marqueta, focusing on financial metrics, margin metrics, and forward guidance accuracy.\", 'Include visual aids such as charts or graphs in the report to illustrate key comparisons and trends between Toast and Marqueta.', 'Review the report for accuracy, completeness, and clarity, ensuring all relevant data and insights are included.', 'Finalize the report and prepare it for presentation or submission to stakeholders.']}\n",
            "agent {'past_steps': [(\"Create a detailed report summarizing the analysis of Toast's IPO readiness compared to Marqueta, focusing on financial metrics, margin metrics, and forward guidance accuracy.\", \"## Analysis of IPO Readiness: Toast Inc vs. Marqeta\\n\\n### Financial Metrics\\n\\n- **Toast Inc:**\\n  - **Revenue:** Toast reported a revenue of $1.34 billion for the quarter ending December 2024, marking a year-over-year increase of 29.2%. This significant growth reflects the company's strong market position and its ability to expand its customer base.\\n  - **Shareholder Equity:** Toast has a total shareholder equity of $1.4 billion, with total debt being $0.0. This indicates a strong financial foundation with no reliance on debt, highlighting its readiness for the IPO from a financial stability perspective.\\n  - **Debt-to-Equity Ratio:** With a debt-to-equity ratio of 0%, Toast showcases exceptional financial health, which is a strong indicator of its ability to sustain operations without needing external debt financing.\\n\\n- **Marqeta:**\\n  - **Revenue and Profits:** In the last 12 months, Marqeta reported a revenue of $490.03 million and profits of $14.03 million, with earnings per share being $0.03. While the revenue is considerable, it's notably lower than that of Toast, suggesting that Marqeta might need to bolster its market presence.\\n  - **IPO Fundraising:** Marqeta raised $1.2 billion during its IPO, with the company being valued at roughly $12 billion at the midpoint of its expected IPO price range ($22/share). This successful fundraising effort points to strong investor confidence and a positive market reception.\\n\\n### Margin Metrics\\n\\n- **Toast Inc** does not have explicit margin metrics available in the retrieved data. However, the lack of debt and significant revenue growth suggest healthy profit margins and operational efficiency.\\n  \\n- **Marqeta**'s earnings details hint at tighter margins, given its profit figures relative to revenue. The specifics of gross and net margin metrics need further investigation for a closer comparison.\\n\\n### Forward Guidance Accuracy\\n\\n- **Toast Inc:** The provided data lacks specific forward guidance disclosures from Toast, making it challenging to assess the accuracy of its future earnings and growth projections at this stage.\\n  \\n- **Marqeta:** Similarly, for Marqeta, the retrieved data does not include detailed forward guidance or comparisons of past projections with actual outcomes, necessitating further research to evaluate its forecasting accuracy and reliability.\\n\\n### Conclusion\\n\\nWhen comparing Toast Inc's and Marqeta's IPO readiness based on available financial metrics, margin metrics, and the limited information on forward guidance accuracy, Toast appears to have a stronger financial foundation, demonstrated by its higher revenue, non-reliance on debt, and potentially better profit margins. However, both companies show promise with successful revenue figures and market valuation at the IPO stage.\\n\\nIn-depth analysis of margin details and forward guidance accuracy requires additional data, which could further refine this comparison and offer a more detailed perspective on each company's long-term sustainability and growth prospects.\\n\\nFor a comprehensive understanding and more visually engaging comparison, incorporating charts and graphs illustrating key metrics and trends will be crucial in the final report.\")]}\n",
            "replan {'plan': ['Review the compiled spreadsheet to ensure all relevant financial metrics and forward guidance comparisons for both Toast and Marqueta are accurately represented.', 'Create visual aids such as charts or graphs to illustrate key comparisons and trends between Toast and Marqueta, focusing on financial metrics, margin metrics, and forward guidance accuracy.', 'Incorporate the visual aids into the detailed report to enhance clarity and understanding of the analysis.', 'Review the final report for accuracy, completeness, and clarity, ensuring all relevant data and insights are included.', 'Finalize the report and prepare it for presentation or submission to stakeholders.']}\n",
            "agent {'past_steps': [('Review the compiled spreadsheet to ensure all relevant financial metrics and forward guidance comparisons for both Toast and Marqueta are accurately represented.', \"Given the constraints of our interaction, I'll guide you through what you should check for in the spreadsheet to ensure accuracy for financial metrics and forward guidance comparisons for both Toast and Marqueta. Here's a structured plan on how to proceed:\\n\\n### Step 1: Pre-Review Preparation\\n\\n#### A. Gather Reference Materials\\n- Obtain the latest quarterly and annual reports from both Toast and Marqueta.\\n- Collect any investor presentations, earnings call transcripts, and press releases for the most recent periods.\\n\\n#### B. Familiarize Yourself with Key Metrics\\n- Understand the revenue models of both companies.\\n- Note the key financial metrics such as revenue, net income, EBITDA, profit margins, and EPS (Earnings Per Share).\\n- Look into the forward guidance each company has provided in their reports or earnings calls.\\n\\n### Step 2: Conducting the Review\\n\\n#### I. Verify Data Accuracy\\n\\n##### 1. Revenue and Net Income\\n- Compare the reported revenue and net income for each company against the figures in your spreadsheet.\\n- Ensure any discrepancy is reconciled or corrected.\\n\\n##### 2. Operating and Net Margins\\n- Check the calculations for operating margin \\\\(Operating Income / Revenue\\\\) and net margin \\\\(Net Income / Revenue\\\\).\\n- Ensure the margins are correctly calculated based on the income and revenue figures.\\n\\n##### 3. EBITDA and Profit Margins\\n- Validate EBITDA figures if provided, ensuring they align with earnings reports.\\n- Cross-reference profit margins with the figures provided in financial reports.\\n\\n##### 4. EPS (Earnings Per Share)\\n- Ensure EPS calculations are accurate (Net income available to common shareholders / Average outstanding shares).\\n\\n##### 5. Forward Guidance Accuracy\\n- Compare the forward guidance provided by each company with actual performance.\\n- Note any significant variances and potential reasons based on earnings call discussions or industry news.\\n\\n#### II. Trend Analysis\\n- Check for the inclusion of quarter-over-quarter (QoQ) or year-over-year (YoY) comparisons for key metrics to identify growth trends.\\n- Ensure any provided trends are correctly calculated and presented in a consistent manner.\\n\\n#### III. Sources and References\\n- Confirm each data point is referenced with the source (e.g., Q2 Earnings Report, Investor Presentation March 2022).\\n- Ensure all external sources are credible and current.\\n\\n### Step 3: Reporting and Follow-up\\n\\n#### A. List of Corrections\\n- Maintain a detailed list of any corrections made during your review.\\n- If discrepancies are identified but the correct information isn't immediately available, note these for follow-up.\\n\\n#### B. Clarify Assumptions or Estimates\\n- If the spreadsheet contains assumptions or estimates, especially regarding forward guidance calculations, ensure these are clearly marked and justified.\\n\\n#### C. Recommendations\\n- Suggest areas where additional data or analysis may be beneficial based on your review.\\n\\n#### D. Validation\\n- If possible, have a second pair of eyes review your work to ensure nothing was missed.\\n\\n### Conclusion\\nThis structured review plan should help thoroughly vet the financial metrics and forward guidance comparisons for Toast and Marqueta in your compiled spreadsheet. Accurate representation of this data is critical for informed decision-making and analysis in your report. Following this plan will minimize errors and ensure the integrity of your analysis.\")]}\n",
            "replan {'plan': ['Create visual aids such as charts or graphs to illustrate key comparisons and trends between Toast and Marqueta, focusing on financial metrics, margin metrics, and forward guidance accuracy.', 'Incorporate the visual aids into the detailed report to enhance clarity and understanding of the analysis.', 'Review the final report for accuracy, completeness, and clarity, ensuring all relevant data and insights are included.', 'Finalize the report and prepare it for presentation or submission to stakeholders.']}\n",
            "agent {'past_steps': [('Create visual aids such as charts or graphs to illustrate key comparisons and trends between Toast and Marqueta, focusing on financial metrics, margin metrics, and forward guidance accuracy.', \"Based on the financial metrics and other details provided for both Toast Inc and Marqueta Inc for the year 2023, we can create visual aids to illustrate key comparisons and trends focusing on financial metrics, margin metrics, and forward guidance accuracy. Below is an outline of the comparative analysis for these two companies based on the available data:\\n\\n### Financial Metrics\\n1. **Net Revenue**:\\n   - **Toast Inc**: Specific net revenue figures for 2023 are not provided directly in the shared details; however, there's a focus on non-GAAP subscription services and financial technology solutions with gross profit in the range of $370 to $380 million.\\n   - **Marqeta Inc**: Reported net revenue of $127,967 for an undisclosed period in 2023, with a yearly comparison showing a significant revenue change. The total net revenue is reported as $557,349 for the year, indicating considerable annual growth.\\n\\n2. **Gross Profit**:\\n   - **Toast Inc**: Gross profit information specific to 2023 is not directly shared; the growth in non-GAAP gross profit related to subscription and financial technology solutions suggests a positive trend.\\n   - **Marqeta Inc**: Gross profit is reported at $90,132 for an unspecified period in 2023, with a quarter showing $83 million, demonstrating a slight year-over-year decrease.\\n\\n3. **Net Loss/Profit**:\\n   - **Marqeta Inc**: For the year ended December 31, 2023, a GAAP net loss of $223 million and an adjusted EBITDA loss of $2 million is reported.\\n\\n### Margin Metrics\\n1. **Gross Margin**:\\n   - Calculations for gross margin can be inferred from gross profit and net revenue figures, illustrating the efficiency of each company's core business operations without considering indirect costs.\\n\\n2. **Profit Margins**:\\n   - Detailed profit margin metrics are not provided but can be estimated by comparing gross profit to net revenue, offering a glimpse into operational efficiency and profitability.\\n\\n### Forward Guidance Accuracy\\n- **Toast Inc**: Emphasizes a range of expected growth regarding subscription services and technological solutions, indicating optimism in their forward guidance.\\n- **Marqeta Inc**: Specific forward guidance accuracy is not detailed but reporting a considerable net loss suggests potential discrepancies or challenges in meeting initial expectations or navigating market conditions.\\n\\n### Visual Aids Creation\\nGiven the data points:\\n- Charts illustrating net revenue and gross profit trends over 2023 for each company can aid in comparing operational efficiency and growth trajectory.\\n- A graph detailing net loss for Marqeta can highlight its financial challenges.\\n- Bar charts comparing gross margin and estimated profit margins can demonstrate operational effectiveness.\\n- A timeline or line chart could represent forward guidance versus actual performance if specific projections and outcomes were available, highlighting the accuracy of each company's financial forecasting.\\n\\nThese visual aids will provide stakeholders with a clear, comparative insight into the financial health, efficiency, and forward planning accuracy of Toast Inc and Marqeta Inc for 2023. The specific figures and trends will need to be graphically designed with accurate, labeled data points for effective communication in the report.\")]}\n",
            "replan {'plan': ['Review the final report for accuracy, completeness, and clarity, ensuring all relevant data and insights are included.', 'Finalize the report and prepare it for presentation or submission to stakeholders.']}\n",
            "agent {'past_steps': [('Review the final report for accuracy, completeness, and clarity, ensuring all relevant data and insights are included.', \"To execute step 1 and review the final report for accuracy, completeness, and clarity, ensuring all relevant data and insights are included, I will outline a structured approach to thoroughly assess the report. Since I can't directly access or review external documents, I'll guide you through the process that you can apply.\\n\\n### Step 1: Preliminary Checks\\n- **Format and Structure:** Ensure that the report follows the predefined format. Check if the content is well-structured into sections like Introduction, Methodology, Results, Discussion, and Conclusion.\\n- **Table of Contents:** Verify if the table of contents accurately reflects the pages and sections for easy navigation.\\n\\n### Step 2: Accuracy\\n- **Data Verification:** Confirm that all data presented in the report is accurate and correctly cited. Cross-reference the data with source documents or databases.\\n- **Factual Accuracy:** Ensure all statements, dates, names, references, and other facts are correct.\\n\\n### Step 3: Completeness\\n- **Coverage of Key Points:** Ensure all relevant data, insights, and required sections outlined in the briefing or project scope are covered.\\n- **Evidence and Support:** Check whether all claims and conclusions are supported by appropriate evidence and data.\\n\\n### Step 4: Clarity\\n- **Readability:** Assess the report for readability, ensuring that it's understandable by the intended audience. Look for clear language and avoid jargon.\\n- **Logical Flow:** Ensure there’s a logical flow of ideas from one section to another, with each part building upon the previous one.\\n- **Visuals and Formatting:** Review charts, tables, graphs, and images for clarity and relevance. Check if each visual element is appropriately labelled and referred to within the text.\\n\\n### Step 5: Critical Assessment\\n- **Objective Analysis:** Critically assess the arguments and findings for bias or assumptions. Ensure the analysis remains objective and evidence-based.\\n- **Innovativeness and Insights:** Evaluate the report for new insights or approaches. It should add value and not just summarize already known information.\\n\\n### Step 6: Final Touches\\n- **Grammar and Spelling:** Conduct a thorough proofreading to catch any spelling, grammar, or punctuation mistakes.\\n- **References and Citations:** Verify the accuracy and format of citations and references. Ensure they comply with the required style guide.\\n\\n### Step 7: Feedback Compilation\\n- **List of Corrections:** Compile a list of necessary corrections, suggestions for improvement, and points requiring clarification.\\n- **Feedback Delivery:** Organize your feedback logically, perhaps by section, and communicate it clearly to the author or team responsible for the report.\\n\\nBy meticulously following these steps, you will ensure the report is accurate, complete, and clear, covering all relevant data and insights. This structured approach facilitates a thorough review process, contributing significantly to the report’s overall quality and effectiveness.\")]}\n",
            "replan {'plan': ['Finalize the report and prepare it for presentation or submission to stakeholders.']}\n",
            "agent {'past_steps': [('Finalize the report and prepare it for presentation or submission to stakeholders.', \"Finalizing a report and preparing it for presentation or submission involves several crucial steps to ensure that the final document is well-polished, accurate, and tailored to meet the expectations of your stakeholders. Below is a detailed plan for executing step 1:\\n\\n### 1. Review and Finalize Content\\n- **Proofread for Grammar and Spelling:** Use tools like grammar checks or have someone else review the document to catch any errors. An error-free document reflects professionalism and attention to detail.\\n- **Ensure Accuracy of Information:** Verify all the data, figures, analysis, and referenced material for accuracy. Misinformation can discredit your report.\\n- **Confirm Consistency:** Make sure the formatting, naming conventions, terminologies, and style are consistent throughout the report. This includes headings, subheadings, font sizes, and numbering.\\n- **Update as Necessary:** Ensure that the most current and relevant information is included. If there are any recent developments or data that could impact the report’s conclusions or recommendations, incorporate them.\\n\\n### 2. Enhance Readability\\n- **Structure and Layout:** Use headings, bullet points, and numbered lists to break down sections and make the report easy to navigate.\\n- **Visual Elements:** Incorporate charts, graphs, and images where applicable to support or convey information visually. This can make the report more engaging and accessible to a wider audience.\\n- **Executive Summary:** Include an executive summary at the beginning of the report that outlines the main points, conclusions, and recommendations. This is critical for stakeholders who need to grasp the essentials quickly.\\n\\n### 3. Format for Presentation/Submission\\n- **Adhere to Guidelines:** If the stakeholders have provided specific formatting or submission guidelines, follow them meticulously.\\n- **Accessibility:** Ensure the report is accessible, which can include considerations for people with disabilities (e.g., alt text for images, accessible PDF format).\\n- **Contact Information:** Include a section with contact information for stakeholders to reach out with questions or for further discussion.\\n\\n### 4. Prepare for Presentation\\n- **Presentation Slides:** If you are presenting the report, prepare a set of slides highlighting key points, findings, and recommendations. Practice the presentation to refine your delivery and timing.\\n- **Handouts or Executive Summaries:** Consider preparing handouts, such as an executive summary or key charts/graphs, for attendees.\\n\\n### 5. Final Checks and Submission\\n- **Backup:** Save the report and all related materials in multiple formats and locations to prevent data loss.\\n- **Submission Details:** Double-check the submission process, deadline, and any details like email addresses or online submission platforms.\\n- **Submit or Present:** Submit the report according to the stakeholders' requirements or present it at the scheduled meeting.\\n\\nExecuting step 1 with thoroughness and attention to detail will ensure that the final report effectively communicates the necessary information and leaves a positive impression on the stakeholders.\")]}\n",
            "replan {'response': \"Based on the detailed steps already completed, it appears that the majority of the tasks have been addressed, including data collection, analysis, and report preparation. The final step of finalizing the report and preparing it for presentation or submission to stakeholders has been outlined but not yet executed. Therefore, the updated plan should focus on this final step:\\n\\n### Updated Plan:\\n\\n1. **Finalize the Report and Prepare for Presentation or Submission:**\\n   - **Review and Finalize Content:** Ensure all sections are complete, accurate, and free of errors. Double-check data accuracy and consistency.\\n   - **Enhance Readability:** Use headings, bullet points, and visual elements to improve the report's readability and engagement.\\n   - **Format for Presentation/Submission:** Follow any specific guidelines provided by stakeholders for formatting and submission.\\n   - **Prepare for Presentation:** If presenting, create slides and practice the presentation. Prepare handouts if necessary.\\n   - **Final Checks and Submission:** Save the report in multiple formats, verify submission details, and submit or present the report as required.\\n\\nOnce this step is completed, the report will be ready for stakeholder review, and no further steps will be needed unless feedback necessitates revisions.\"}\n"
          ]
        }
      ],
      "source": [
        "config = {\"recursion_limit\": 50}\n",
        "inputs = {\"input\": \"\"\"I need to help me assess my company Toast for IPO readiness and create a report.\n",
        "IPO Readiness is measured by comparing my company (in the fintech industry) with a prior company (Marqueta) in my industry that have gone through IPO.\n",
        "The IPO Readiness should measure across “financial metrics” (Revenue, ARR, Growth etc), “Margin metrics” (Gross, Net, Operating, EBITDA etc) and “forward guidance given in each quarter compared to actuals”\n",
        "Your task is to compare the financial metrics as defined above for Toast and Marqueta over the past year from 2023 to 2024 and give a detailed report like a spreadsheet \"\"\"}\n",
        "ans = []\n",
        "\n",
        "async for event in app.astream(inputs, config=config):\n",
        "\n",
        "    for k, v in event.items():\n",
        "        ans.append({k:v})\n",
        "        if k != \"__end__\":\n",
        "            print(k,v)"
      ]
    },
    {
      "cell_type": "code",
      "source": [
        "final_planner_prompt = ChatPromptTemplate.from_messages(\n",
        "    [\n",
        "        (\n",
        "            \"system\",\n",
        "            \"\"\"You are a friendly assistant\"\"\",\n",
        "        ),\n",
        "        (\"placeholder\", \"{messages}\"),\n",
        "    ]\n",
        ")\n",
        "final_planner = final_planner_prompt | ChatOpenAI(\n",
        "    model=\"gpt-4o\", temperature=0\n",
        ")"
      ],
      "metadata": {
        "id": "DYit3OBGR1FP"
      },
      "id": "DYit3OBGR1FP",
      "execution_count": 15,
      "outputs": []
    },
    {
      "cell_type": "code",
      "source": [
        "query = \"\"\"Take the context provided, and write a spreadsheet report about IPO readiness for Toast in comparison with Marqueta.\n",
        "The IPO Readiness should measure across “financial metrics” (Revenue, ARR, Growth etc), “Margin metrics” (Gross, Net, Operating, EBITDA etc) and “forward guidance given in each quarter compared to actuals”\n",
        "Your task is to compare the financial metrics as defined above for Toast and Marqueta over the past year from 2023 to 2024 and give a detailed report like a spreadsheet\n",
        "solely based on the context.\"\"\"\n",
        "\n",
        "resp = final_planner.invoke(\n",
        "    {\n",
        "        \"messages\": [\n",
        "            (\"user\", f\"\"\"Query: {query}\n",
        "             context: f{ans}\"\"\")\n",
        "        ]\n",
        "    }\n",
        ")"
      ],
      "metadata": {
        "id": "7fUiVIDySMk_"
      },
      "id": "7fUiVIDySMk_",
      "execution_count": 16,
      "outputs": []
    },
    {
      "cell_type": "code",
      "source": [
        "print(resp.content)"
      ],
      "metadata": {
        "id": "clOcAZpNVU6L",
        "colab": {
          "base_uri": "https://localhost:8080/"
        },
        "outputId": "d8ed8d88-bb3e-49c5-acde-3eaa6fd8f68d"
      },
      "id": "clOcAZpNVU6L",
      "execution_count": 17,
      "outputs": [
        {
          "output_type": "stream",
          "name": "stdout",
          "text": [
            "Based on the context provided, it seems that the task involves creating a detailed spreadsheet report comparing the IPO readiness of Toast and Marqueta, focusing on financial metrics, margin metrics, and forward guidance accuracy. Here's a structured approach to compiling this report:\n",
            "\n",
            "### Spreadsheet Structure\n",
            "\n",
            "#### Section 1: Toast Financial Metrics (2023-2024)\n",
            "- **Revenue**: \n",
            "  - Q4 2024: $1.34 billion (29.2% YoY growth)\n",
            "- **Annual Recurring Revenue (ARR)**: \n",
            "  - End of 2024: $1.6 billion (34% increase)\n",
            "- **Net Income**: \n",
            "  - Q4 2024: $33 million\n",
            "- **Adjusted EBITDA**: \n",
            "  - Q4 2024: $111 million\n",
            "- **Growth Metrics**: \n",
            "  - Added 28,000 net locations in 2024, totaling 134,000 locations\n",
            "\n",
            "#### Section 2: Marqueta Financial Metrics (2023-2024)\n",
            "- **Revenue**: \n",
            "  - Full Year 2023: $676 million\n",
            "- **Gross Profit**: \n",
            "  - Q3 2024: $90 million (24% YoY increase)\n",
            "- **Net Income**: \n",
            "  - Full Year 2023: GAAP net loss of $223 million\n",
            "- **Adjusted EBITDA**: \n",
            "  - Full Year 2023: Loss of $2 million\n",
            "\n",
            "#### Section 3: Forward Guidance vs. Actuals (Toast)\n",
            "- **Q1 2023**: \n",
            "  - Actuals: Gross profit $174 million, Net loss $(81) million\n",
            "  - Guidance: Raised full-year revenue guidance by 4%\n",
            "- **Q2 2023**: \n",
            "  - Actuals: ARR $1.1 billion, GPV $32.1 billion\n",
            "  - Guidance: Strategic agreement with Marriott\n",
            "- **Q3 2023**: \n",
            "  - Actuals: ARR $1.2 billion, Revenue $1.305 billion\n",
            "  - Guidance: Expected revenue growth of 41%\n",
            "- **Q4 2023**: \n",
            "  - Actuals: Net income $33 million\n",
            "  - Guidance: Full-year adjusted EBITDA $510-$530 million\n",
            "\n",
            "#### Section 4: Forward Guidance vs. Actuals (Marqueta)\n",
            "- **Q1 2023**: \n",
            "  - Guidance: Net Revenue Growth 26%-28%, Gross Profit Growth 14%-16%\n",
            "  - Actuals: Full Year 2023 Net Revenue $676 million, Gross Profit $330 million\n",
            "- **Q3 2023**: \n",
            "  - Actuals: Gross Profit $90 million (24% YoY increase)\n",
            "\n",
            "### Analysis and Comparison\n",
            "- **Revenue Growth**: Toast shows stronger revenue growth compared to Marqueta.\n",
            "- **Profitability**: Toast achieved positive net income and adjusted EBITDA, while Marqueta reported a net loss.\n",
            "- **Forward Guidance Accuracy**: Toast's actuals generally aligned with or exceeded guidance, indicating reliable forecasting. Marqueta's guidance showed growth but faced challenges in profitability.\n",
            "\n",
            "### Visual Aids\n",
            "- **Charts**: Create bar charts comparing revenue, ARR, and net income for both companies.\n",
            "- **Graphs**: Use line graphs to illustrate growth trends and forward guidance accuracy over the quarters.\n",
            "\n",
            "### Conclusion\n",
            "Toast demonstrates a robust financial position with strong revenue growth and profitability, indicating readiness for an IPO. Marqueta, while showing revenue growth, faces challenges in achieving profitability, which may impact its IPO readiness.\n",
            "\n",
            "This structured approach ensures a comprehensive comparison of Toast and Marqueta's IPO readiness, focusing on key financial and operational metrics.\n"
          ]
        }
      ]
    },
    {
      "cell_type": "markdown",
      "id": "8bf585a9-0f1e-4910-bd00-65e7bb05b6e6",
      "metadata": {
        "id": "8bf585a9-0f1e-4910-bd00-65e7bb05b6e6"
      },
      "source": [
        "## Conclusion\n",
        "\n",
        "Congrats on making a plan-and-execute agent! One known limitations of the above design is that each task is still executed in sequence, meaning embarrassingly parallel operations all add to the total execution time. You could improve on this by having each task represented as a DAG (similar to LLMCompiler), rather than a regular list."
      ]
    },
    {
      "cell_type": "code",
      "source": [],
      "metadata": {
        "id": "YMRWK23bVUNa"
      },
      "id": "YMRWK23bVUNa",
      "execution_count": null,
      "outputs": []
    }
  ],
  "metadata": {
    "kernelspec": {
      "display_name": "Python 3 (ipykernel)",
      "language": "python",
      "name": "python3"
    },
    "language_info": {
      "codemirror_mode": {
        "name": "ipython",
        "version": 3
      },
      "file_extension": ".py",
      "mimetype": "text/x-python",
      "name": "python",
      "nbconvert_exporter": "python",
      "pygments_lexer": "ipython3",
      "version": "3.11.9"
    },
    "colab": {
      "provenance": []
    }
  },
  "nbformat": 4,
  "nbformat_minor": 5
}